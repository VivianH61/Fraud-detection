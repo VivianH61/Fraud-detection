{
 "cells": [
  {
   "cell_type": "markdown",
   "id": "executive-enterprise",
   "metadata": {},
   "source": [
    "Use text data, text mining and topic modeling to detect fraudulent behavior."
   ]
  },
  {
   "cell_type": "code",
   "execution_count": 1,
   "id": "varying-church",
   "metadata": {},
   "outputs": [],
   "source": [
    "import warnings\n",
    "warnings.filterwarnings('ignore')\n",
    "warnings.simplefilter('ignore')\n",
    "import pandas as pd\n",
    "import matplotlib.pyplot as plt\n",
    "from matplotlib.patches import Rectangle\n",
    "import numpy as np\n",
    "from pprint import pprint as pp\n",
    "import csv\n",
    "from pathlib import Path\n",
    "import seaborn as sns\n",
    "from itertools import product\n",
    "import string\n",
    "\n",
    "import nltk\n",
    "from nltk.corpus import stopwords\n",
    "from nltk.stem.wordnet import WordNetLemmatizer\n",
    "\n",
    "from imblearn.over_sampling import SMOTE\n",
    "from imblearn.over_sampling import BorderlineSMOTE\n",
    "from imblearn.pipeline import Pipeline \n",
    "\n",
    "from sklearn.linear_model import LinearRegression, LogisticRegression\n",
    "from sklearn.model_selection import train_test_split, GridSearchCV\n",
    "from sklearn.tree import DecisionTreeClassifier\n",
    "from sklearn.metrics import r2_score, classification_report, confusion_matrix, accuracy_score, roc_auc_score, roc_curve, precision_recall_curve, average_precision_score\n",
    "from sklearn.metrics import homogeneity_score, silhouette_score\n",
    "from sklearn.ensemble import RandomForestClassifier, VotingClassifier\n",
    "from sklearn.preprocessing import MinMaxScaler\n",
    "from sklearn.cluster import MiniBatchKMeans, DBSCAN\n",
    "\n",
    "import gensim\n",
    "from gensim import corpora"
   ]
  },
  {
   "cell_type": "code",
   "execution_count": 2,
   "id": "correct-capture",
   "metadata": {},
   "outputs": [],
   "source": [
    "pd.set_option('display.max_columns', 700)\n",
    "pd.set_option('display.max_rows', 400)\n",
    "pd.set_option('display.min_rows', 10)\n",
    "pd.set_option('display.expand_frame_repr', True)\n",
    "\n",
    "data = Path.cwd() / 'data'\n",
    "ch4 = data / 'dataset_4'\n",
    "enron_emails_clean_file = ch4 / 'enron_emails_clean.csv'\n",
    "cleantext_file = ch4 / 'cleantext.pickle'\n",
    "corpus_file = ch4 / 'corpus.pickle'\n",
    "dict_file = ch4 / 'dict.pickle'\n",
    "ldamodel_file = ch4 / 'ldamodel.pickle'"
   ]
  },
  {
   "cell_type": "code",
   "execution_count": 3,
   "id": "peripheral-chicago",
   "metadata": {},
   "outputs": [],
   "source": [
    "df = pd.read_csv(enron_emails_clean_file)"
   ]
  },
  {
   "cell_type": "code",
   "execution_count": 4,
   "id": "cultural-racing",
   "metadata": {},
   "outputs": [
    {
     "data": {
      "text/plain": [
       "0        False\n",
       "1        False\n",
       "2        False\n",
       "3        False\n",
       "4        False\n",
       "         ...  \n",
       "14221    False\n",
       "14222    False\n",
       "14223    False\n",
       "14224    False\n",
       "14225    False\n",
       "Name: clean_content, Length: 14226, dtype: object"
      ]
     },
     "execution_count": 4,
     "metadata": {},
     "output_type": "execute_result"
    }
   ],
   "source": [
    "df['clean_content'].str.contains('money laundering')"
   ]
  },
  {
   "cell_type": "code",
   "execution_count": 5,
   "id": "threatened-joshua",
   "metadata": {},
   "outputs": [],
   "source": [
    "# Using a string operator to find words\n",
    "df['clean_content'].str.contains('money laundering')\n",
    "\n",
    " # Select data that matches \n",
    "df.loc[df['clean_content'].str.contains('money laundering', na=False)]\n",
    "\n",
    " # Create a list of words to search for\n",
    "list_of_words = ['police', 'money laundering']\n",
    "df.loc[df['clean_content'].str.contains('|'.join(list_of_words), na=False)]\n",
    "\n",
    " # Create a fraud flag \n",
    "df['flag'] = np.where((df['clean_content'].str.contains('|'.join(list_of_words)) == True), 1, 0)"
   ]
  },
  {
   "cell_type": "code",
   "execution_count": 6,
   "id": "fitting-diagram",
   "metadata": {},
   "outputs": [],
   "source": [
    "df = pd.read_csv(enron_emails_clean_file)"
   ]
  },
  {
   "cell_type": "code",
   "execution_count": 7,
   "id": "secret-decrease",
   "metadata": {},
   "outputs": [],
   "source": [
    "mask = df['clean_content'].str.contains('sell enron stock', na=False)"
   ]
  },
  {
   "cell_type": "code",
   "execution_count": 8,
   "id": "compact-angola",
   "metadata": {},
   "outputs": [
    {
     "data": {
      "text/html": [
       "<div>\n",
       "<style scoped>\n",
       "    .dataframe tbody tr th:only-of-type {\n",
       "        vertical-align: middle;\n",
       "    }\n",
       "\n",
       "    .dataframe tbody tr th {\n",
       "        vertical-align: top;\n",
       "    }\n",
       "\n",
       "    .dataframe thead th {\n",
       "        text-align: right;\n",
       "    }\n",
       "</style>\n",
       "<table border=\"1\" class=\"dataframe\">\n",
       "  <thead>\n",
       "    <tr style=\"text-align: right;\">\n",
       "      <th></th>\n",
       "      <th>Message-ID</th>\n",
       "      <th>From</th>\n",
       "      <th>To</th>\n",
       "      <th>Date</th>\n",
       "      <th>content</th>\n",
       "      <th>clean_content</th>\n",
       "      <th>Unnamed: 6</th>\n",
       "    </tr>\n",
       "  </thead>\n",
       "  <tbody>\n",
       "  </tbody>\n",
       "</table>\n",
       "</div>"
      ],
      "text/plain": [
       "Empty DataFrame\n",
       "Columns: [Message-ID, From, To, Date, content, clean_content, Unnamed: 6]\n",
       "Index: []"
      ]
     },
     "execution_count": 8,
     "metadata": {},
     "output_type": "execute_result"
    }
   ],
   "source": [
    "# Select the data from df using the mask\n",
    "df[mask]\n",
    "\n"
   ]
  },
  {
   "cell_type": "code",
   "execution_count": 9,
   "id": "external-intervention",
   "metadata": {},
   "outputs": [
    {
     "data": {
      "text/html": [
       "<div>\n",
       "<style scoped>\n",
       "    .dataframe tbody tr th:only-of-type {\n",
       "        vertical-align: middle;\n",
       "    }\n",
       "\n",
       "    .dataframe tbody tr th {\n",
       "        vertical-align: top;\n",
       "    }\n",
       "\n",
       "    .dataframe thead th {\n",
       "        text-align: right;\n",
       "    }\n",
       "</style>\n",
       "<table border=\"1\" class=\"dataframe\">\n",
       "  <thead>\n",
       "    <tr style=\"text-align: right;\">\n",
       "      <th></th>\n",
       "      <th>Message-ID</th>\n",
       "      <th>From</th>\n",
       "      <th>To</th>\n",
       "      <th>Date</th>\n",
       "      <th>content</th>\n",
       "      <th>clean_content</th>\n",
       "      <th>Unnamed: 6</th>\n",
       "    </tr>\n",
       "  </thead>\n",
       "  <tbody>\n",
       "    <tr>\n",
       "      <th>0</th>\n",
       "      <td>&lt;8345058.1075840404046.JavaMail.evans@thyme&gt;</td>\n",
       "      <td>('advdfeedback@investools.com')</td>\n",
       "      <td>('advdfeedback@investools.com')</td>\n",
       "      <td>2002/1/29 23:20</td>\n",
       "      <td>INVESTools Advisory\\nA Free Digest of Trusted ...</td>\n",
       "      <td>investools advisory free digest trusted invest...</td>\n",
       "      <td>NaN</td>\n",
       "    </tr>\n",
       "    <tr>\n",
       "      <th>1</th>\n",
       "      <td>&lt;1512159.1075863666797.JavaMail.evans@thyme&gt;</td>\n",
       "      <td>('richard.sanders@enron.com')</td>\n",
       "      <td>('richard.sanders@enron.com')</td>\n",
       "      <td>2000/9/20 19:07</td>\n",
       "      <td>----- Forwarded by Richard B Sanders/HOU/ECT o...</td>\n",
       "      <td>forwarded richard b sanders hou ect pm justin ...</td>\n",
       "      <td>NaN</td>\n",
       "    </tr>\n",
       "    <tr>\n",
       "      <th>2</th>\n",
       "      <td>&lt;26118676.1075862176383.JavaMail.evans@thyme&gt;</td>\n",
       "      <td>('m..love@enron.com')</td>\n",
       "      <td>('m..love@enron.com')</td>\n",
       "      <td>2001/10/30 16:15</td>\n",
       "      <td>hey you are not wearing your target purple shi...</td>\n",
       "      <td>hey wearing target purple shirt today mine wan...</td>\n",
       "      <td>NaN</td>\n",
       "    </tr>\n",
       "    <tr>\n",
       "      <th>3</th>\n",
       "      <td>&lt;10369289.1075860831062.JavaMail.evans@thyme&gt;</td>\n",
       "      <td>('leslie.milosevich@kp.org')</td>\n",
       "      <td>('leslie.milosevich@kp.org')</td>\n",
       "      <td>2002/1/30 17:54</td>\n",
       "      <td>Leslie Milosevich\\n1042 Santa Clara Avenue\\nAl...</td>\n",
       "      <td>leslie milosevich santa clara avenue alameda c...</td>\n",
       "      <td>NaN</td>\n",
       "    </tr>\n",
       "    <tr>\n",
       "      <th>4</th>\n",
       "      <td>&lt;26728895.1075860815046.JavaMail.evans@thyme&gt;</td>\n",
       "      <td>('rtwait@graphicaljazz.com')</td>\n",
       "      <td>('rtwait@graphicaljazz.com')</td>\n",
       "      <td>2002/1/30 19:36</td>\n",
       "      <td>Rini Twait\\n1010 E 5th Ave\\nLongmont, CO 80501...</td>\n",
       "      <td>rini twait e th ave longmont co rtwait graphic...</td>\n",
       "      <td>NaN</td>\n",
       "    </tr>\n",
       "  </tbody>\n",
       "</table>\n",
       "</div>"
      ],
      "text/plain": [
       "                                      Message-ID  \\\n",
       "0   <8345058.1075840404046.JavaMail.evans@thyme>   \n",
       "1   <1512159.1075863666797.JavaMail.evans@thyme>   \n",
       "2  <26118676.1075862176383.JavaMail.evans@thyme>   \n",
       "3  <10369289.1075860831062.JavaMail.evans@thyme>   \n",
       "4  <26728895.1075860815046.JavaMail.evans@thyme>   \n",
       "\n",
       "                              From                               To  \\\n",
       "0  ('advdfeedback@investools.com')  ('advdfeedback@investools.com')   \n",
       "1    ('richard.sanders@enron.com')    ('richard.sanders@enron.com')   \n",
       "2            ('m..love@enron.com')            ('m..love@enron.com')   \n",
       "3     ('leslie.milosevich@kp.org')     ('leslie.milosevich@kp.org')   \n",
       "4     ('rtwait@graphicaljazz.com')     ('rtwait@graphicaljazz.com')   \n",
       "\n",
       "               Date                                            content  \\\n",
       "0   2002/1/29 23:20  INVESTools Advisory\\nA Free Digest of Trusted ...   \n",
       "1   2000/9/20 19:07  ----- Forwarded by Richard B Sanders/HOU/ECT o...   \n",
       "2  2001/10/30 16:15  hey you are not wearing your target purple shi...   \n",
       "3   2002/1/30 17:54  Leslie Milosevich\\n1042 Santa Clara Avenue\\nAl...   \n",
       "4   2002/1/30 19:36  Rini Twait\\n1010 E 5th Ave\\nLongmont, CO 80501...   \n",
       "\n",
       "                                       clean_content Unnamed: 6  \n",
       "0  investools advisory free digest trusted invest...        NaN  \n",
       "1  forwarded richard b sanders hou ect pm justin ...        NaN  \n",
       "2  hey wearing target purple shirt today mine wan...        NaN  \n",
       "3  leslie milosevich santa clara avenue alameda c...        NaN  \n",
       "4  rini twait e th ave longmont co rtwait graphic...        NaN  "
      ]
     },
     "execution_count": 9,
     "metadata": {},
     "output_type": "execute_result"
    }
   ],
   "source": [
    "# Create a list of terms to search for\n",
    "searchfor = ['enron stock', 'sell stock', 'stock bonus', 'sell enron stock']\n",
    "\n",
    "# Filter cleaned emails on searchfor list and select from df \n",
    "filtered_emails = df[df.clean_content.str.contains('|'.join(searchfor), na=False)]\n",
    "filtered_emails.head()"
   ]
  },
  {
   "cell_type": "code",
   "execution_count": 10,
   "id": "embedded-topic",
   "metadata": {},
   "outputs": [
    {
     "name": "stdout",
     "output_type": "stream",
     "text": [
      "0    13923\n",
      "1      303\n",
      "Name: flag, dtype: int64\n"
     ]
    }
   ],
   "source": [
    "# Create flag variable where the emails match the searchfor terms\n",
    "df['flag'] = np.where((df['clean_content'].str.contains('|'.join(searchfor)) == True), 1, 0)\n",
    "\n",
    "# Count the values of the flag variable\n",
    "count = df['flag'].value_counts()\n",
    "print(count)"
   ]
  },
  {
   "cell_type": "markdown",
   "id": "realistic-avenue",
   "metadata": {},
   "source": [
    "sift through messy email data and search for the email with suspicious words"
   ]
  },
  {
   "cell_type": "markdown",
   "id": "forbidden-charge",
   "metadata": {},
   "source": [
    "Data Preprocessing"
   ]
  },
  {
   "cell_type": "code",
   "execution_count": 12,
   "id": "fluid-sentence",
   "metadata": {},
   "outputs": [],
   "source": [
    "from nltk import word_tokenize\n",
    "from nltk.corpus import stopwords \n",
    "import string\n",
    "\n",
    "# 1. Tokenization\n",
    "text = df.apply(lambda row: word_tokenize(str(row[\"clean_content\"])), axis=1)\n",
    "text = df.apply(lambda row: str(row[\"clean_content\"]).lower(), axis=1)\n",
    "text = df.apply(lambda row: str(row[\"clean_content\"]).rstrip(), axis=1)\n",
    "###text = text.rstrip()  # remove whitespace\n",
    "# # replace with lowercase\n",
    "# # text = re.sub(r'[^a-zA-Z]', ' ', text)\n",
    "# text = text.str.lower()\n",
    "\n",
    " # 2. Remove all stopwords and punctuation\n",
    "exclude = set(string.punctuation)\n",
    "stop = set(stopwords.words('english'))\n",
    "stop_free = \" \".join([word for word in text if((word not in stop) and (not word.isdigit()))])\n",
    "punc_free = ''.join(word for word in stop_free if word not in exclude)"
   ]
  },
  {
   "cell_type": "code",
   "execution_count": 31,
   "id": "unusual-morning",
   "metadata": {},
   "outputs": [],
   "source": [
    "from nltk.stem.wordnet import WordNetLemmatizer\n",
    "from nltk.stem.porter import PorterStemmer\n",
    "\n",
    "# Lemmatize words\n",
    "lemma = WordNetLemmatizer()\n",
    "normalized = \" \".join(lemma.lemmatize(word) for word in punc_free.split())\n",
    "\n",
    "# Stem words\n",
    "porter= PorterStemmer()\n",
    "cleaned_text = \" \".join(porter.stem(token) for token in normalized.split())"
   ]
  },
  {
   "cell_type": "code",
   "execution_count": 14,
   "id": "comfortable-cotton",
   "metadata": {},
   "outputs": [],
   "source": [
    "# Define stopwords to exclude\n",
    "stop = set(stopwords.words('english'))\n",
    "stop.update((\"to\", \"cc\", \"subject\", \"http\", \"from\", \"sent\", \"ect\", \"u\", \"fwd\", \"www\", \"com\", 'html'))\n",
    "\n",
    "# Define punctuations to exclude and lemmatizer\n",
    "exclude = set(string.punctuation)\n"
   ]
  },
  {
   "cell_type": "code",
   "execution_count": 15,
   "id": "loved-community",
   "metadata": {},
   "outputs": [],
   "source": [
    "# Import the lemmatizer from nltk\n",
    "lemma = WordNetLemmatizer()\n",
    "\n",
    "def clean(text, stop):\n",
    "    text = str(text).rstrip()\n",
    "    stop_free = \" \".join([i for i in text.lower().split() if((i not in stop) and (not i.isdigit()))])\n",
    "    punc_free = ''.join(i for i in stop_free if i not in exclude)\n",
    "    normalized = \" \".join(lemma.lemmatize(i) for i in punc_free.split())      \n",
    "    return normalized"
   ]
  },
  {
   "cell_type": "code",
   "execution_count": 16,
   "id": "southwest-empty",
   "metadata": {},
   "outputs": [],
   "source": [
    "# Clean the emails in df and print results\n",
    "text_clean=[]\n",
    "for text in df['clean_content']:\n",
    "    text_clean.append(clean(text, stop).split())    "
   ]
  },
  {
   "cell_type": "code",
   "execution_count": 17,
   "id": "brown-fraction",
   "metadata": {},
   "outputs": [
    {
     "data": {
      "text/plain": [
       "['investools',\n",
       " 'advisory',\n",
       " 'free',\n",
       " 'digest',\n",
       " 'trusted',\n",
       " 'investment',\n",
       " 'advice',\n",
       " 'unsubscribe',\n",
       " 'free',\n",
       " 'newsletter']"
      ]
     },
     "execution_count": 17,
     "metadata": {},
     "output_type": "execute_result"
    }
   ],
   "source": [
    "text_clean[0][:10]"
   ]
  },
  {
   "cell_type": "markdown",
   "id": "handy-toronto",
   "metadata": {},
   "source": [
    "Topic modeling on fraud --- using LDA model"
   ]
  },
  {
   "cell_type": "code",
   "execution_count": 18,
   "id": "entitled-qatar",
   "metadata": {},
   "outputs": [],
   "source": [
    "\n",
    "\n",
    "# Define the dictionary\n",
    "dictionary = corpora.Dictionary(text_clean)\n",
    "\n",
    "# Define the corpus \n",
    "corpus = [dictionary.doc2bow(text) for text in text_clean]\n",
    "\n",
    "\n",
    "corpus = [dictionary.doc2bow(text) for text in text_clean]"
   ]
  },
  {
   "cell_type": "code",
   "execution_count": 19,
   "id": "facial-ancient",
   "metadata": {},
   "outputs": [
    {
     "name": "stdout",
     "output_type": "stream",
     "text": [
      "(0, '0.609*\"nan\" + 0.000*\"flakin\" + 0.000*\"mediatrip\" + 0.000*\"telkajdslkajfdlkasjdflkjsd\" + 0.000*\"88\"')\n",
      "(1, '0.010*\"enron\" + 0.008*\"diabetes\" + 0.007*\"company\" + 0.006*\"customer\" + 0.006*\"trading\"')\n",
      "(2, '0.049*\"skadden\" + 0.023*\"enron\" + 0.021*\"fund\" + 0.018*\"energy\" + 0.014*\"employee\"')\n",
      "(3, '0.011*\"image\" + 0.010*\"td\" + 0.008*\"net\" + 0.007*\"money\" + 0.007*\"e\"')\n",
      "(4, '0.055*\"enron\" + 0.018*\"hou\" + 0.013*\"pm\" + 0.009*\"thanks\" + 0.009*\"deal\"')\n"
     ]
    }
   ],
   "source": [
    "# Define the LDA model\n",
    "ldamodel = gensim.models.ldamodel.LdaModel(corpus, num_topics=5, id2word=dictionary, passes=5)\n",
    "\n",
    "# Save the topics and top 5 words\n",
    "topics = ldamodel.print_topics(num_words=5)\n",
    "\n",
    "# Print the results\n",
    "for topic in topics:\n",
    "    print(topic)"
   ]
  },
  {
   "cell_type": "code",
   "execution_count": 32,
   "id": "boolean-arbor",
   "metadata": {},
   "outputs": [],
   "source": [
    "import collections\n",
    "\n",
    "try:\n",
    "    collectionsAbc = collections.abc\n",
    "except AttributeError:\n",
    "    collectionsAbc = collections\n",
    "import pyLDAvis\n",
    "import pyLDAvis.gensim_models as gensimvis\n",
    "pyLDAvis.enable_notebook()\n",
    "lda_display = gensimvis.prepare(ldamodel, corpus, dictionary, sort_topics=False)"
   ]
  },
  {
   "cell_type": "code",
   "execution_count": 21,
   "id": "regional-elimination",
   "metadata": {},
   "outputs": [
    {
     "data": {
      "text/html": [
       "\n",
       "<link rel=\"stylesheet\" type=\"text/css\" href=\"https://cdn.jsdelivr.net/gh/bmabey/pyLDAvis@3.3.1/pyLDAvis/js/ldavis.v1.0.0.css\">\n",
       "\n",
       "\n",
       "<div id=\"ldavis_el85351405858641720723809417658\"></div>\n",
       "<script type=\"text/javascript\">\n",
       "\n",
       "var ldavis_el85351405858641720723809417658_data = {\"mdsDat\": {\"x\": [-0.2620224586117604, 0.15833112278926853, -0.24510617003776963, 0.16892514053646607, 0.17987236532379566], \"y\": [-0.2518268231481676, 0.015784534452809265, 0.26182624024344875, -0.030106343107174974, 0.004322391559084859], \"topics\": [1, 2, 3, 4, 5], \"cluster\": [1, 1, 1, 1, 1], \"Freq\": [2.2904780936856097, 24.327584000159735, 7.192690918906315, 34.8756742270095, 31.313572760238845]}, \"tinfo\": {\"Term\": [\"nan\", \"enron\", \"skadden\", \"hou\", \"energy\", \"image\", \"fund\", \"td\", \"company\", \"employee\", \"pm\", \"money\", \"thanks\", \"diabetes\", \"california\", \"pdx\", \"tr\", \"mark\", \"kate\", \"million\", \"consumer\", \"nc\", \"width\", \"enronxgate\", \"net\", \"sw\", \"ne\", \"corp\", \"deal\", \"made\", \"nan\", \"flakin\", \"mediatrip\", \"telkajdslkajfdlkasjdflkjsd\", \"88\", \"tourney\", \"ottoman\", \"leapt\", \"sukran\", \"fasil\", \"dizzying\", \"realesta\", \"2\", \"flagship\", \"convincing\", \"busted\", \"unfazed\", \"budding\", \"reiterating\", \"retaking\", \"anf\", \"danielles\", \"jonesgranger\", \"nn\", \"metallgesellschaft\", \"garble\", \"hamburg\", \"dundas\", \"fingster\", \"agruber\", \"blurb\", \"lmf\", \"lmfoust\", \"newhatley\", \"whatley\", \"hardship\", \"pookie\", \"sailmainecoast\", \"vm\", \"comeback\", \"elene\", \"kidventurecamp\", \"stphilip\", \"piss\", \"hora\", \"raymont\", \"anders\", \"kimble\", \"giddy\", \"hadcopy\", \"runway\", \"wahey\", \"3906\", \"reasoning\", \"ciavaldinireminder\", \"webcl\", \"propose\", \"videotaped\", \"historicals\", \"password\", \"div\", \"hourahead\", \"ancillary\", \"preferred\", \"dbcaps\", \"simulation\", \"unknown\", \"variance\", \"gt\", \"virus\", \"administrator\", \"engine\", \"attempting\", \"pep\", \"enronoptions\", \"occurred\", \"borland\", \"initialize\", \"exotica\", \"trans\", \"cholesterol\", \"detected\", \"businessweek\", \"txt\", \"truequote\", \"pg\", \"parsing\", \"westdesk\", \"alias\", \"diabetes\", \"iso\", \"nyiso\", \"program\", \"database\", \"share\", \"registration\", \"log\", \"option\", \"user\", \"dynegy\", \"board\", \"exchange\", \"feedback\", \"org\", \"statement\", \"security\", \"access\", \"performance\", \"investor\", \"id\", \"asp\", \"process\", \"customer\", \"online\", \"schedule\", \"link\", \"data\", \"company\", \"management\", \"cannot\", \"trading\", \"type\", \"future\", \"error\", \"request\", \"stock\", \"product\", \"may\", \"information\", \"email\", \"transaction\", \"question\", \"enron\", \"new\", \"please\", \"time\", \"system\", \"skadden\", \"nc\", \"crisis\", \"retirement\", \"donate\", \"declared\", \"relief\", \"hurt\", \"indeed\", \"gown\", \"bankruptcy\", \"netted\", \"afford\", \"apse\", \"orch\", \"mckay\", \"dealing\", \"repair\", \"financially\", \"urging\", \"aggressively\", \"bankrupt\", \"pocketbook\", \"devastated\", \"wiped\", \"underhanded\", \"astronomical\", \"tennis\", \"cheffo\", \"deco\", \"income\", \"salmon\", \"reliantenergy\", \"tbww\", \"sw\", \"mbra\", \"fund\", \"worldwinner\", \"cn\", \"donated\", \"rk\", \"consumer\", \"ctr\", \"syncrasy\", \"ecar\", \"npcc\", \"std\", \"million\", \"frcc\", \"maac\", \"california\", \"lay\", \"employee\", \"energy\", \"nw\", \"saving\", \"ne\", \"pay\", \"made\", \"company\", \"enron\", \"ken\", \"york\", \"benefit\", \"bill\", \"new\", \"set\", \"stock\", \"please\", \"money\", \"image\", \"td\", \"tr\", \"width\", \"class\", \"height\", \"br\", \"src\", \"script\", \"gif\", \"align\", \"img\", \"href\", \"outage\", \"border\", \"recipient\", \"nbsp\", \"scoop\", \"intended\", \"wscc\", \"thru\", \"index\", \"wj\", \"cellpadding\", \"cellspacing\", \"auction\", \"sat\", \"hp\", \"top\", \"amazon\", \"ticket\", \"bodydefault\", \"table\", \"center\", \"net\", \"money\", \"clear\", \"scheduled\", \"price\", \"market\", \"e\", \"day\", \"u\", \"power\", \"service\", \"mail\", \"message\", \"gas\", \"time\", \"like\", \"would\", \"new\", \"please\", \"hou\", \"pdx\", \"kate\", \"enronxgate\", \"na\", \"metoyer\", \"lon\", \"kay\", \"symes\", \"kimberly\", \"stephanie\", \"boyd\", \"amerex\", \"swerzbin\", \"evelyn\", \"draft\", \"fyi\", \"devon\", \"bradford\", \"tana\", \"cta\", \"d\", \"carol\", \"louise\", \"samantha\", \"melissa\", \"prebon\", \"isda\", \"mwe\", \"debbie\", \"forwarded\", \"ee\", \"taylor\", \"sara\", \"jeffrey\", \"master\", \"steven\", \"thompson\", \"david\", \"bob\", \"justin\", \"counterparty\", \"checkout\", \"thanks\", \"shackleton\", \"development\", \"mark\", \"enron\", \"jeff\", \"john\", \"pm\", \"mike\", \"williams\", \"corp\", \"deal\", \"attached\", \"let\", \"agreement\", \"j\", \"original\", \"know\", \"doc\", \"message\", \"please\", \"need\", \"trade\", \"would\", \"e\", \"mail\", \"call\", \"get\"], \"Freq\": [4685.0, 7391.0, 1182.0, 1866.0, 898.0, 1330.0, 545.0, 1137.0, 989.0, 575.0, 1587.0, 954.0, 1019.0, 681.0, 423.0, 714.0, 766.0, 877.0, 630.0, 318.0, 296.0, 271.0, 685.0, 613.0, 1104.0, 254.0, 324.0, 1023.0, 1083.0, 370.0, 4684.81911361033, 1.0206297922303094, 1.0205386356539126, 0.7581074191339107, 0.24050668806848524, 0.12232372657705849, 0.12233533112279452, 0.12233533112279452, 0.12233534512104027, 0.12233533112279452, 0.12233531712454875, 0.12420895432319123, 0.12284646306851825, 0.12232199079458411, 0.12232199079458411, 0.12232199079458411, 0.12232199079458411, 0.12232199079458411, 0.12232199079458411, 0.12233842473510773, 0.12233842473510773, 0.12234199428777684, 0.12234199428777684, 0.12232099691913506, 0.12232099691913506, 0.12232096892264353, 0.1223209829208893, 0.12232096892264353, 0.12232099691913506, 0.1223209829208893, 0.14010874978506196, 0.14010874978506196, 0.14010874978506196, 0.14010874978506196, 0.14010874978506196, 0.13508749504105197, 0.1234396667291398, 0.1234396667291398, 0.12580650412068595, 0.1243577136808953, 0.12422163673385087, 0.1246253881363406, 0.1246253881363406, 0.12604684000215965, 0.12386218977919528, 0.12269083057214546, 0.12285640182300869, 0.12285640182300869, 0.1226850772931376, 0.12318550058085405, 0.12314652946465492, 0.12314652946465492, 0.12265110355067523, 0.12331397648045016, 0.12330438768210375, 0.12315091091557817, 0.1230956598395588, 0.12302352687915143, 0.12300664499476344, 211.43435857531136, 163.01571480753316, 104.41437065091168, 101.36301461950177, 97.33797764961787, 94.81405948328376, 92.81496245078073, 91.34554891453082, 83.86421913196033, 82.32803612973103, 79.68738320372256, 76.34817246231191, 74.81749411108291, 79.83946762366676, 72.60188873539023, 71.18940099794631, 71.18506198177322, 68.75916656786701, 68.75916656786701, 68.68641668157011, 66.67406947358236, 79.16445087408087, 59.742843206360284, 58.9233543459058, 58.6106835083186, 58.90892426251436, 60.03030302782772, 54.67074263851359, 54.67074263851359, 54.54699028141015, 670.2299393314212, 132.48861409866575, 115.44695680188693, 218.7853370803485, 233.56100027304734, 152.89859446137623, 184.1508342173992, 179.28234388655218, 426.1871510459502, 315.3238224539149, 214.61331593760107, 121.89285078860762, 250.15421644218242, 117.40164552632015, 254.02852017698305, 140.05397425804455, 167.7430729281185, 247.20928049164942, 110.2893890338939, 119.53732641441218, 293.2830856640971, 211.06563735446187, 309.4380802305224, 513.7970639508789, 357.64013477432707, 341.0048035052312, 297.51847927989894, 254.26899302068134, 604.4538035633174, 293.9148692558267, 164.71154696185053, 488.86245077365265, 259.3100924598176, 254.55298924151936, 225.86735367497195, 327.7091064122384, 279.11819609007927, 363.598669703255, 460.67026411215846, 407.20342242703094, 356.23037319507085, 311.7669520075669, 328.22031102821046, 815.0924855325014, 376.10245828311287, 444.7514414348037, 334.85725494195606, 276.5067744309211, 1181.9012310052728, 271.35679900475094, 119.45094425172095, 99.18790794000131, 94.44953750533213, 91.50750445184636, 68.33503019041093, 64.0931260048607, 64.61146861570202, 62.229420907910296, 162.85779836647785, 59.92916761121894, 49.730917549487856, 49.800524666480555, 49.79946123223016, 52.7689860304113, 54.58195012170006, 47.671866895367266, 47.38376061305428, 46.38311118320573, 46.043647778562224, 45.795023602783694, 45.40853558571868, 45.04795260192781, 44.68739212468192, 44.68738368472755, 44.687378058091305, 40.467088595678035, 37.36874196065689, 37.36874196065689, 60.542954852692155, 46.29265175228733, 82.66716427505175, 120.20759178746663, 244.53784245853328, 84.44990207642985, 503.7332974019627, 72.51955956616612, 113.90719961142034, 124.30816049716692, 207.36855349950577, 260.67352727202416, 186.73715256606775, 186.73715256606775, 104.21233656139013, 104.21233656139013, 104.21233656139013, 250.5565202110414, 93.89695681293712, 93.89695681293712, 298.0660361441819, 96.17059049355116, 346.68172625663664, 436.37701495981486, 150.62818070095386, 101.47370640817806, 184.55923922126163, 136.76641089988928, 175.17838748681856, 264.1338185368076, 556.7463837926113, 105.03687509007362, 131.23542747059338, 114.8645380087694, 119.48504166736849, 122.80358671185607, 111.43235741866833, 112.63748162299535, 116.6708120295623, 113.70184989500571, 1330.3774878588322, 1136.6952878927475, 765.7920650537756, 685.5104673633022, 536.0460698894168, 438.765643967008, 387.5618960804073, 365.8153302873738, 358.63999157054303, 354.66993431135387, 339.54520511393986, 335.70883083946757, 301.60068129639217, 280.1807112196945, 271.5568491578521, 253.69404689326103, 234.5047820333774, 223.89484097563198, 275.8596133555356, 202.52590233218186, 172.20134956685735, 193.05755939943478, 161.7458259975808, 151.29806422609033, 151.29806422609033, 157.8188201159188, 138.97910897882798, 144.18648410829692, 165.37364117477392, 132.4159837675168, 230.43882769433523, 181.05245906159746, 434.1922944953609, 315.5837578043242, 991.3098583872328, 840.3149271495483, 321.34483967181785, 267.06185428459423, 528.1395125284265, 564.0850664908306, 809.6308626431818, 417.7208319970127, 453.363607640154, 330.33785774717114, 392.964925806794, 391.4440772388264, 432.3244430942069, 333.6848977330962, 368.1327930330449, 338.35635414618037, 362.35877938294806, 377.20029162845475, 360.1444707934432, 1866.1654308627458, 713.6690892414281, 630.4140929599805, 613.0017081927431, 309.0813303551322, 155.06386908486854, 382.9311981095525, 144.26150515953006, 432.38816261459345, 107.98271916690364, 108.11340378909843, 110.79138522848632, 103.9208279963973, 99.12254061528641, 169.24624930053992, 174.1263952263967, 95.45117232937997, 84.7754696055811, 82.0393659661346, 88.76059121545791, 85.7566330919356, 72.30742790077346, 69.5320331396774, 69.8048786250226, 68.33995545121367, 64.72135092842018, 64.6256645543905, 63.60717572725449, 64.96772879721779, 63.32501574751574, 495.0453517726253, 353.09637652886096, 329.214943740855, 155.53117377795382, 129.25611802042843, 276.82716530758205, 84.58080830821906, 82.38746227798072, 312.48241295757146, 153.48618602593905, 126.0801265132746, 265.8831671768958, 122.60678156116812, 960.2086787280136, 112.8270033707561, 547.0311310803427, 810.6159146150093, 5783.56766577379, 271.93860510473854, 325.8951379100075, 1321.5973435990265, 331.1287692042958, 235.0179579770849, 866.292903735152, 898.3096808401174, 401.2004183781492, 518.0246319925316, 421.30889916361485, 296.67927397385546, 630.2362051012404, 662.4229824457619, 323.83512203883316, 738.235005702909, 889.4957318205034, 429.7665335600901, 389.5218918348795, 445.27672832696874, 537.342930108314, 429.4331959145743, 333.20571161229054, 331.3213789857987], \"Total\": [4685.0, 7391.0, 1182.0, 1866.0, 898.0, 1330.0, 545.0, 1137.0, 989.0, 575.0, 1587.0, 954.0, 1019.0, 681.0, 423.0, 714.0, 766.0, 877.0, 630.0, 318.0, 296.0, 271.0, 685.0, 613.0, 1104.0, 254.0, 324.0, 1023.0, 1083.0, 370.0, 4685.184079977579, 1.3859977244959072, 1.3859075608480973, 1.1233313367165576, 0.6053689284725718, 0.4984223171198037, 0.49926529768853684, 0.499269236154591, 0.49927237690934584, 0.49927779824848445, 0.4992835139002711, 0.5080686504901648, 0.5027188283402266, 0.5006386452101405, 0.5006538238562721, 0.5006820934238628, 0.5006848632865039, 0.5006899639179637, 0.5006969047394265, 0.5008056905114407, 0.5008167043772898, 0.5014950525145319, 0.5014967395827233, 0.5015664434823571, 0.501590628984821, 0.5016142499106507, 0.5016203991808843, 0.5016310370312367, 0.5016321298390013, 0.5016410165367169, 0.8211329440748925, 0.8211329440748925, 0.8211329440748925, 0.8211329440748925, 0.8211329440748925, 1.4402494329949138, 0.5537628369467174, 0.5537628369467174, 0.7514809111805123, 0.6900424474699814, 0.7064929184459124, 0.7926501954444087, 0.7926501954444087, 1.6966069482587367, 0.8231720442828478, 0.5544729549309273, 0.6028975817129031, 0.6028975817129031, 0.5739645537605556, 0.8210396442827366, 0.8560113632279854, 0.8560113632279854, 0.5924517021502527, 1.8488013576429332, 1.1308786370626283, 7.55720793389957, 7.46216058384902, 6.673711423299995, 0.8665002828791835, 211.84334715132334, 163.42346456856203, 104.80047417540624, 101.75156489441223, 97.72870110886393, 95.20017351477624, 93.2029121077944, 91.7456086185445, 84.25253072286576, 82.72776364493956, 80.08211760145707, 76.74020893015297, 75.20431687349395, 80.26156001948794, 72.99026973589656, 71.57631895520936, 71.57205746422014, 69.14523073004712, 69.14523073004712, 69.08230508368277, 67.06552949533473, 79.66707654119247, 60.12892497197204, 59.31028786771632, 58.99849812502926, 59.298955013895096, 60.44365116065716, 55.056824255843345, 55.056824255843345, 54.933089271906134, 681.9900323316341, 135.07035261840178, 117.41872398778442, 226.99200944125474, 243.6650655674485, 157.55273191779082, 191.39779292544745, 186.44341283308117, 460.1093304137353, 340.59307951990434, 228.80373530566618, 126.32748964698852, 272.39429697606374, 121.89852916378186, 283.5916845955679, 149.40959678953575, 183.09804751327167, 287.24073725784746, 116.07408622720064, 127.35815703615064, 358.42582301659365, 245.6649557418355, 392.22184640798423, 717.6679097048491, 474.21339283794305, 452.9820014083248, 387.0633232726111, 323.9967688388997, 989.4878648631815, 403.70944334273713, 189.98046379336625, 805.0642468188951, 351.69198557784244, 345.23697089986905, 294.54863929232715, 501.6997980657543, 407.40203292031754, 613.6946763579869, 999.7374617705201, 837.7305258991682, 698.8453710700564, 546.6491815731767, 645.133347375972, 7391.385317831193, 1095.0740419478636, 1811.1847887497686, 912.2267728123084, 550.222284203586, 1182.6544810246498, 271.7473159290462, 119.82690589705354, 99.55188345155733, 94.80985340081455, 91.8667959609915, 68.71822524290484, 64.45745399435678, 64.98018285971293, 62.59764803002115, 163.85084031354575, 60.29486149883161, 50.09595753691754, 50.16656036268743, 50.16602156667701, 53.16125328182827, 54.98782352423191, 48.0340361357127, 47.745528999486325, 46.74521894541049, 46.403433731616296, 46.154584133051586, 45.76766996871378, 45.40708726887079, 45.046526017623655, 45.046517876488146, 45.04651239490638, 40.8475558505371, 37.73391004638571, 37.73391004638571, 61.288482090963605, 46.74865114037514, 83.97376361994552, 122.8119425535065, 254.0841802090989, 86.22184061090364, 545.8480293480255, 74.01994452724269, 119.00447951338023, 132.21680033985936, 230.03085530009588, 296.33846540328693, 207.1122974557499, 207.1122974557499, 115.43808250601528, 115.43808250601528, 115.43808250601528, 318.3598149726008, 103.97880663868915, 103.97880663868915, 423.7603932285429, 108.01539438342941, 575.1273486522858, 898.3392951516333, 212.30276976738142, 124.1244848096993, 324.9503829180324, 220.83131599155695, 370.13514415473867, 989.4878648631815, 7391.385317831193, 140.92788511393346, 289.98807520798346, 217.30526224341943, 338.57315248888375, 1095.0740419478636, 299.2777443205596, 407.40203292031754, 1811.1847887497686, 954.3214625444414, 1330.8203712377153, 1137.1138686614813, 766.2107403044646, 685.9291966989027, 536.4673625539075, 439.18448917982005, 387.98332755123107, 366.23542878735304, 359.0624893586025, 355.1012569054984, 339.9645918125532, 336.1275463672836, 302.01968787430013, 280.6123744016506, 272.01359046805015, 254.12921778972483, 234.92389906703744, 224.31558835892648, 276.44930563512736, 202.99406084207473, 172.631262919821, 193.5483233216427, 162.1699763301597, 151.7165686276225, 151.7165686276225, 158.29065528681213, 139.41141829160753, 144.638167478125, 165.8952858317216, 132.83754568218714, 231.4106823820216, 181.95742665618258, 448.6868788852828, 326.901222572735, 1104.8354710985295, 954.3214625444414, 347.5989881112473, 285.58095903866405, 683.2851857891087, 814.790909509694, 1492.8831609698902, 647.3567887479022, 836.1756844652156, 477.2897294783814, 717.6675953290573, 844.6968533362367, 1357.849381312894, 603.6875910868741, 912.2267728123084, 648.0592163030672, 894.5233427919269, 1095.0740419478636, 1811.1847887497686, 1866.7679681381221, 714.0968728646375, 630.8472195660028, 613.4233761692506, 309.53393207500443, 155.5531102941777, 384.3183917249349, 144.78427160118628, 434.0522981210015, 108.40489935706405, 108.53762956848371, 111.2299285570107, 104.36298241568892, 99.54467773340822, 169.98105526576458, 174.96570151390932, 95.92384956597371, 85.19678809319203, 82.46487325457986, 89.25878348650403, 86.24919583250663, 72.74219275401946, 69.96336980618476, 70.23997167253157, 68.77766857665713, 65.14284767154356, 65.04832082568676, 64.02941421483226, 65.3997572637526, 63.74872969356798, 499.7888492617551, 356.8487530305601, 332.5807024611668, 156.5977261711053, 130.24753127760985, 281.90225115857083, 85.23372476508355, 83.02823163582362, 321.7203924382005, 156.1050372100528, 127.75543199923212, 273.5847003794742, 124.20323668376788, 1019.5601589509236, 114.10790703567478, 582.0865293020958, 877.9919175989236, 7391.385317831193, 288.24715604717505, 350.431451378636, 1587.1112300205439, 359.60053855878533, 249.04003377435433, 1023.8149464927899, 1083.6178597153214, 453.9063364584371, 623.1563714611242, 499.14742242397267, 336.73127611554986, 881.2377694778818, 947.2616675111283, 394.33626831269453, 1357.849381312894, 1811.1847887497686, 697.9148281441231, 613.4980004664353, 894.5233427919269, 1492.8831609698902, 844.6968533362367, 615.7830190167301, 664.5882309722992], \"Category\": [\"Default\", \"Default\", \"Default\", \"Default\", \"Default\", \"Default\", \"Default\", \"Default\", \"Default\", \"Default\", \"Default\", \"Default\", \"Default\", \"Default\", \"Default\", \"Default\", \"Default\", \"Default\", \"Default\", \"Default\", \"Default\", \"Default\", \"Default\", \"Default\", \"Default\", \"Default\", \"Default\", \"Default\", \"Default\", \"Default\", \"Topic1\", \"Topic1\", \"Topic1\", \"Topic1\", \"Topic1\", \"Topic1\", \"Topic1\", \"Topic1\", \"Topic1\", \"Topic1\", \"Topic1\", \"Topic1\", \"Topic1\", \"Topic1\", \"Topic1\", \"Topic1\", \"Topic1\", \"Topic1\", \"Topic1\", \"Topic1\", \"Topic1\", \"Topic1\", \"Topic1\", \"Topic1\", \"Topic1\", \"Topic1\", \"Topic1\", \"Topic1\", \"Topic1\", \"Topic1\", \"Topic1\", \"Topic1\", \"Topic1\", \"Topic1\", \"Topic1\", \"Topic1\", \"Topic1\", \"Topic1\", \"Topic1\", \"Topic1\", \"Topic1\", \"Topic1\", \"Topic1\", \"Topic1\", \"Topic1\", \"Topic1\", \"Topic1\", \"Topic1\", \"Topic1\", \"Topic1\", \"Topic1\", \"Topic1\", \"Topic1\", \"Topic1\", \"Topic1\", \"Topic1\", \"Topic1\", \"Topic1\", \"Topic1\", \"Topic2\", \"Topic2\", \"Topic2\", \"Topic2\", \"Topic2\", \"Topic2\", \"Topic2\", \"Topic2\", \"Topic2\", \"Topic2\", \"Topic2\", \"Topic2\", \"Topic2\", \"Topic2\", \"Topic2\", \"Topic2\", \"Topic2\", \"Topic2\", \"Topic2\", \"Topic2\", \"Topic2\", \"Topic2\", \"Topic2\", \"Topic2\", \"Topic2\", \"Topic2\", \"Topic2\", \"Topic2\", \"Topic2\", \"Topic2\", \"Topic2\", \"Topic2\", \"Topic2\", \"Topic2\", \"Topic2\", \"Topic2\", \"Topic2\", \"Topic2\", \"Topic2\", \"Topic2\", \"Topic2\", \"Topic2\", \"Topic2\", \"Topic2\", \"Topic2\", \"Topic2\", \"Topic2\", \"Topic2\", \"Topic2\", \"Topic2\", \"Topic2\", \"Topic2\", \"Topic2\", \"Topic2\", \"Topic2\", \"Topic2\", \"Topic2\", \"Topic2\", \"Topic2\", \"Topic2\", \"Topic2\", \"Topic2\", \"Topic2\", \"Topic2\", \"Topic2\", \"Topic2\", \"Topic2\", \"Topic2\", \"Topic2\", \"Topic2\", \"Topic2\", \"Topic2\", \"Topic2\", \"Topic2\", \"Topic2\", \"Topic2\", \"Topic2\", \"Topic2\", \"Topic3\", \"Topic3\", \"Topic3\", \"Topic3\", \"Topic3\", \"Topic3\", \"Topic3\", \"Topic3\", \"Topic3\", \"Topic3\", \"Topic3\", \"Topic3\", \"Topic3\", \"Topic3\", \"Topic3\", \"Topic3\", \"Topic3\", \"Topic3\", \"Topic3\", \"Topic3\", \"Topic3\", \"Topic3\", \"Topic3\", \"Topic3\", \"Topic3\", \"Topic3\", \"Topic3\", \"Topic3\", \"Topic3\", \"Topic3\", \"Topic3\", \"Topic3\", \"Topic3\", \"Topic3\", \"Topic3\", \"Topic3\", \"Topic3\", \"Topic3\", \"Topic3\", \"Topic3\", \"Topic3\", \"Topic3\", \"Topic3\", \"Topic3\", \"Topic3\", \"Topic3\", \"Topic3\", \"Topic3\", \"Topic3\", \"Topic3\", \"Topic3\", \"Topic3\", \"Topic3\", \"Topic3\", \"Topic3\", \"Topic3\", \"Topic3\", \"Topic3\", \"Topic3\", \"Topic3\", \"Topic3\", \"Topic3\", \"Topic3\", \"Topic3\", \"Topic3\", \"Topic3\", \"Topic3\", \"Topic3\", \"Topic3\", \"Topic3\", \"Topic4\", \"Topic4\", \"Topic4\", \"Topic4\", \"Topic4\", \"Topic4\", \"Topic4\", \"Topic4\", \"Topic4\", \"Topic4\", \"Topic4\", \"Topic4\", \"Topic4\", \"Topic4\", \"Topic4\", \"Topic4\", \"Topic4\", \"Topic4\", \"Topic4\", \"Topic4\", \"Topic4\", \"Topic4\", \"Topic4\", \"Topic4\", \"Topic4\", \"Topic4\", \"Topic4\", \"Topic4\", \"Topic4\", \"Topic4\", \"Topic4\", \"Topic4\", \"Topic4\", \"Topic4\", \"Topic4\", \"Topic4\", \"Topic4\", \"Topic4\", \"Topic4\", \"Topic4\", \"Topic4\", \"Topic4\", \"Topic4\", \"Topic4\", \"Topic4\", \"Topic4\", \"Topic4\", \"Topic4\", \"Topic4\", \"Topic4\", \"Topic4\", \"Topic4\", \"Topic4\", \"Topic5\", \"Topic5\", \"Topic5\", \"Topic5\", \"Topic5\", \"Topic5\", \"Topic5\", \"Topic5\", \"Topic5\", \"Topic5\", \"Topic5\", \"Topic5\", \"Topic5\", \"Topic5\", \"Topic5\", \"Topic5\", \"Topic5\", \"Topic5\", \"Topic5\", \"Topic5\", \"Topic5\", \"Topic5\", \"Topic5\", \"Topic5\", \"Topic5\", \"Topic5\", \"Topic5\", \"Topic5\", \"Topic5\", \"Topic5\", \"Topic5\", \"Topic5\", \"Topic5\", \"Topic5\", \"Topic5\", \"Topic5\", \"Topic5\", \"Topic5\", \"Topic5\", \"Topic5\", \"Topic5\", \"Topic5\", \"Topic5\", \"Topic5\", \"Topic5\", \"Topic5\", \"Topic5\", \"Topic5\", \"Topic5\", \"Topic5\", \"Topic5\", \"Topic5\", \"Topic5\", \"Topic5\", \"Topic5\", \"Topic5\", \"Topic5\", \"Topic5\", \"Topic5\", \"Topic5\", \"Topic5\", \"Topic5\", \"Topic5\", \"Topic5\", \"Topic5\", \"Topic5\", \"Topic5\", \"Topic5\", \"Topic5\", \"Topic5\", \"Topic5\"], \"logprob\": [30.0, 29.0, 28.0, 27.0, 26.0, 25.0, 24.0, 23.0, 22.0, 21.0, 20.0, 19.0, 18.0, 17.0, 16.0, 15.0, 14.0, 13.0, 12.0, 11.0, 10.0, 9.0, 8.0, 7.0, 6.0, 5.0, 4.0, 3.0, 2.0, 1.0, -0.4963, -8.928, -8.9281, -9.2253, -10.3734, -11.0495, -11.0494, -11.0494, -11.0494, -11.0494, -11.0494, -11.0342, -11.0452, -11.0495, -11.0495, -11.0495, -11.0495, -11.0495, -11.0495, -11.0494, -11.0494, -11.0493, -11.0493, -11.0495, -11.0495, -11.0495, -11.0495, -11.0495, -11.0495, -11.0495, -10.9137, -10.9137, -10.9137, -10.9137, -10.9137, -10.9502, -11.0404, -11.0404, -11.0214, -11.033, -11.0341, -11.0308, -11.0308, -11.0195, -11.037, -11.0465, -11.0451, -11.0451, -11.0465, -11.0425, -11.0428, -11.0428, -11.0468, -11.0414, -11.0415, -11.0428, -11.0432, -11.0438, -11.0439, -5.9573, -6.2174, -6.6629, -6.6925, -6.7331, -6.7593, -6.7806, -6.7966, -6.8821, -6.9005, -6.9331, -6.976, -6.9962, -6.9312, -7.0263, -7.0459, -7.046, -7.0806, -7.0806, -7.0817, -7.1114, -6.9397, -7.2212, -7.235, -7.2403, -7.2353, -7.2164, -7.3099, -7.3099, -7.3122, -4.8036, -6.4248, -6.5624, -5.9232, -5.8578, -6.2815, -6.0955, -6.1223, -5.2564, -5.5577, -5.9424, -6.5081, -5.7892, -6.5457, -5.7738, -6.3692, -6.1888, -5.801, -6.6081, -6.5276, -5.6301, -5.9591, -5.5765, -5.0694, -5.4317, -5.4794, -5.6158, -5.7729, -4.9069, -5.628, -6.2071, -5.1192, -5.7532, -5.7717, -5.8913, -5.5191, -5.6796, -5.4152, -5.1786, -5.3019, -5.4357, -5.569, -5.5176, -4.608, -5.3814, -5.2137, -5.4976, -5.689, -3.0178, -4.4893, -5.3098, -5.4957, -5.5446, -5.5763, -5.8683, -5.9324, -5.9243, -5.9619, -4.9998, -5.9995, -6.1861, -6.1847, -6.1847, -6.1268, -6.093, -6.2284, -6.2344, -6.2558, -6.2631, -6.2685, -6.277, -6.285, -6.293, -6.293, -6.293, -6.3922, -6.4719, -6.4719, -5.9894, -6.2577, -5.6779, -5.3035, -4.5933, -5.6566, -3.8707, -5.8089, -5.3573, -5.2699, -4.7582, -4.5294, -4.863, -4.863, -5.4463, -5.4463, -5.4463, -4.569, -5.5505, -5.5505, -4.3954, -5.5266, -4.2443, -4.0142, -5.0779, -5.4729, -4.8747, -5.1744, -4.9269, -4.5163, -3.7706, -5.4384, -5.2157, -5.349, -5.3095, -5.2821, -5.3793, -5.3685, -5.3334, -5.3591, -4.4782, -4.6356, -5.0305, -5.1413, -5.3872, -5.5875, -5.7116, -5.7693, -5.7891, -5.8002, -5.8438, -5.8552, -5.9623, -6.036, -6.0673, -6.1353, -6.214, -6.2603, -6.0515, -6.3606, -6.5228, -6.4084, -6.5854, -6.6522, -6.6522, -6.61, -6.7371, -6.7003, -6.5632, -6.7855, -6.2314, -6.4726, -5.5979, -5.917, -4.7724, -4.9377, -5.8989, -6.084, -5.4021, -5.3362, -4.9749, -5.6366, -5.5547, -5.8713, -5.6977, -5.7016, -5.6023, -5.8612, -5.763, -5.8473, -5.7788, -5.7387, -5.7849, -4.0321, -4.9933, -5.1173, -5.1453, -5.8301, -6.5199, -5.6158, -6.5921, -5.4944, -6.8817, -6.8805, -6.856, -6.9201, -6.9673, -6.4323, -6.4039, -7.0051, -7.1237, -7.1565, -7.0778, -7.1122, -7.2828, -7.3219, -7.318, -7.3392, -7.3936, -7.3951, -7.411, -7.3898, -7.4154, -5.359, -5.697, -5.767, -6.5169, -6.7019, -5.9403, -7.126, -7.1523, -5.8191, -6.5301, -6.7268, -5.9806, -6.7547, -4.6965, -6.8378, -5.2592, -4.8659, -2.9009, -5.9581, -5.7771, -4.3771, -5.7612, -6.104, -4.7995, -4.7632, -5.5692, -5.3137, -5.5203, -5.871, -5.1176, -5.0678, -5.7835, -4.9594, -4.773, -5.5005, -5.5988, -5.465, -5.2771, -5.5012, -5.7549, -5.7606], \"loglift\": [30.0, 29.0, 28.0, 27.0, 26.0, 25.0, 24.0, 23.0, 22.0, 21.0, 20.0, 19.0, 18.0, 17.0, 16.0, 15.0, 14.0, 13.0, 12.0, 11.0, 10.0, 9.0, 8.0, 7.0, 6.0, 5.0, 4.0, 3.0, 2.0, 1.0, 3.7763, 3.4704, 3.4704, 3.3832, 2.8533, 2.3716, 2.37, 2.37, 2.37, 2.37, 2.37, 2.3678, 2.3673, 2.3672, 2.3672, 2.3671, 2.3671, 2.3671, 2.3671, 2.367, 2.367, 2.3656, 2.3656, 2.3653, 2.3653, 2.3652, 2.3652, 2.3652, 2.3652, 2.3652, 2.0081, 2.0081, 2.0081, 2.0081, 2.0081, 1.4098, 2.2754, 2.2754, 1.9891, 2.0628, 2.0382, 1.9263, 1.9263, 1.1767, 1.8824, 2.2681, 2.1857, 2.1857, 2.2335, 1.8795, 1.8375, 1.8375, 2.2015, 1.0689, 1.5603, -0.3404, -0.3282, -0.2171, 1.8242, 1.4116, 1.4111, 1.4099, 1.4097, 1.4096, 1.4095, 1.4094, 1.4092, 1.4089, 1.4087, 1.4086, 1.4084, 1.4084, 1.4083, 1.4082, 1.4081, 1.4081, 1.408, 1.408, 1.4078, 1.4077, 1.4072, 1.4071, 1.407, 1.407, 1.407, 1.4067, 1.4065, 1.4065, 1.4065, 1.3962, 1.3943, 1.3966, 1.3767, 1.3712, 1.3836, 1.375, 1.3744, 1.337, 1.3365, 1.3495, 1.3778, 1.3284, 1.376, 1.3035, 1.3489, 1.326, 1.2635, 1.3624, 1.3502, 1.213, 1.2618, 1.1765, 1.0794, 1.1314, 1.1296, 1.1504, 1.1712, 0.9207, 1.0962, 1.2708, 0.9147, 1.1088, 1.1088, 1.1481, 0.9877, 1.0354, 0.8901, 0.6387, 0.6922, 0.7397, 0.852, 0.7378, -0.7912, 0.3448, 0.0093, 0.4114, 0.7255, 2.6315, 2.6307, 2.629, 2.6284, 2.6283, 2.6282, 2.6265, 2.6264, 2.6264, 2.6262, 2.626, 2.626, 2.6248, 2.6248, 2.6248, 2.6247, 2.6247, 2.6245, 2.6245, 2.6243, 2.6243, 2.6243, 2.6242, 2.6242, 2.6241, 2.6241, 2.6241, 2.6227, 2.6224, 2.6224, 2.6199, 2.6223, 2.6164, 2.6107, 2.5938, 2.6113, 2.5518, 2.6116, 2.5883, 2.5704, 2.5284, 2.5039, 2.5285, 2.5285, 2.5298, 2.5298, 2.5298, 2.3926, 2.5301, 2.5301, 2.2803, 2.516, 2.1259, 1.9101, 2.2889, 2.4306, 2.0664, 2.153, 1.884, 1.3114, 0.0461, 2.3382, 1.8393, 1.9946, 1.5906, 0.4441, 1.6442, 1.3465, -0.1103, 0.5047, 1.053, 1.053, 1.0528, 1.0528, 1.0526, 1.0524, 1.0523, 1.0522, 1.0522, 1.0522, 1.0521, 1.0521, 1.052, 1.0518, 1.0517, 1.0517, 1.0516, 1.0515, 1.0512, 1.0511, 1.0509, 1.0508, 1.0508, 1.0506, 1.0506, 1.0504, 1.0503, 1.0503, 1.0502, 1.0502, 1.0492, 1.0484, 1.0205, 1.0181, 0.945, 0.9262, 0.9748, 0.9863, 0.7958, 0.6857, 0.4415, 0.6153, 0.4412, 0.6854, 0.4511, 0.2842, -0.0911, 0.4605, 0.1459, 0.4035, 0.1497, -0.0124, -0.5619, 1.1608, 1.1605, 1.1604, 1.1604, 1.1597, 1.158, 1.1575, 1.1575, 1.1573, 1.1572, 1.1572, 1.1572, 1.1569, 1.1569, 1.1568, 1.1563, 1.1562, 1.1562, 1.1559, 1.1555, 1.1554, 1.1551, 1.1549, 1.1549, 1.1547, 1.1546, 1.1546, 1.1545, 1.1545, 1.1544, 1.1516, 1.1505, 1.1509, 1.1543, 1.1535, 1.143, 1.1534, 1.1534, 1.132, 1.1442, 1.1479, 1.1326, 1.1482, 1.1011, 1.1498, 1.099, 1.0813, 0.9158, 1.1029, 1.0885, 0.978, 1.0786, 1.1032, 0.9941, 0.9736, 1.0377, 0.9763, 0.9916, 1.0345, 0.8259, 0.8034, 0.9641, 0.5517, 0.45, 0.6763, 0.7069, 0.4635, 0.1393, 0.4846, 0.547, 0.465]}, \"token.table\": {\"Topic\": [2, 4, 5, 2, 3, 3, 2, 4, 5, 2, 4, 4, 5, 2, 3, 2, 4, 3, 2, 4, 5, 2, 4, 3, 3, 2, 3, 4, 5, 3, 4, 5, 2, 5, 2, 4, 5, 3, 4, 4, 2, 5, 4, 5, 2, 2, 3, 5, 2, 4, 5, 2, 4, 5, 5, 4, 4, 4, 5, 4, 5, 3, 2, 2, 4, 4, 5, 3, 5, 2, 3, 4, 5, 2, 3, 2, 4, 5, 4, 5, 3, 5, 3, 4, 2, 4, 5, 5, 2, 4, 5, 2, 4, 2, 3, 4, 5, 2, 4, 5, 2, 2, 4, 5, 3, 5, 3, 3, 2, 3, 2, 4, 5, 5, 2, 4, 2, 2, 4, 5, 3, 3, 4, 5, 2, 4, 5, 2, 3, 4, 5, 3, 4, 4, 5, 2, 3, 4, 5, 2, 3, 5, 2, 3, 4, 5, 2, 2, 3, 4, 5, 2, 5, 2, 4, 5, 5, 2, 4, 5, 2, 2, 4, 5, 3, 1, 2, 4, 5, 3, 4, 2, 3, 5, 2, 4, 5, 5, 2, 4, 5, 2, 4, 5, 4, 3, 2, 2, 4, 5, 2, 4, 4, 3, 2, 4, 4, 4, 3, 3, 4, 2, 4, 5, 2, 4, 2, 4, 5, 2, 5, 2, 4, 5, 2, 4, 5, 4, 5, 2, 4, 5, 4, 5, 5, 5, 2, 3, 5, 5, 2, 4, 5, 2, 3, 4, 5, 2, 4, 5, 2, 4, 5, 2, 4, 2, 5, 2, 5, 5, 3, 4, 2, 3, 4, 5, 2, 4, 5, 2, 4, 5, 2, 4, 5, 2, 4, 5, 2, 4, 5, 2, 4, 5, 3, 4, 3, 1, 5, 2, 4, 5, 5, 4, 5, 2, 3, 4, 3, 4, 5, 5, 1, 4, 3, 2, 3, 4, 2, 4, 5, 2, 3, 4, 5, 3, 2, 3, 4, 5, 3, 4, 3, 4, 2, 4, 2, 2, 4, 5, 2, 4, 5, 3, 2, 3, 4, 5, 2, 4, 5, 4, 2, 2, 2, 3, 4, 5, 5, 2, 2, 4, 2, 2, 2, 3, 4, 5, 2, 4, 5, 3, 2, 4, 5, 5, 2, 2, 4, 5, 2, 4, 5, 2, 4, 5, 2, 4, 5, 4, 5, 2, 4, 5, 4, 4, 2, 4, 2, 3, 3, 3, 2, 4, 5, 3, 3, 4, 3, 5, 4, 5, 4, 2, 3, 2, 4, 5, 2, 4, 5, 4, 4, 2, 4, 2, 4, 5, 2, 3, 4, 5, 2, 5, 2, 4, 2, 3, 4, 2, 4, 3, 4, 5, 5, 2, 3, 4, 3, 4, 5, 4, 5, 3, 4, 2, 4, 5, 2, 4, 5, 4, 5, 3, 4, 4, 1, 3, 2, 4, 5, 5, 4, 4, 5, 2, 3, 4, 5, 4, 4, 2, 4, 5, 2, 4, 5, 2, 2, 4, 5, 2, 2, 2, 4, 5, 2, 3, 4, 5, 3, 2, 3, 2, 4, 2, 4, 5, 2, 4, 2, 4, 4, 5, 3, 4, 3, 4, 2, 4, 5, 4, 2, 3, 4, 5], \"Freq\": [0.8599058836778972, 0.05570240542043059, 0.08355360813064588, 0.9903543534677278, 0.9980845253462453, 0.9913059508925646, 0.10417763903793442, 0.05208881951896721, 0.8434381929801998, 1.0012180405103865, 1.0001041525744139, 0.9936949626862953, 0.9965219237004638, 0.9926137264307224, 0.9966798528445392, 0.8588933629660055, 0.13839987839262646, 0.9989674584682912, 0.11015488435372031, 0.0044061953741488125, 0.8834421725168369, 0.9967411545523855, 0.9981637874561484, 0.9966507306705232, 0.9948072264266843, 0.40956210209168625, 0.5292094577589204, 0.05982367783361709, 0.004601821371816699, 0.3514750036298495, 0.13291071565834645, 0.5139214338789396, 0.9657438799814567, 0.03166373376988382, 0.00640594318974098, 0.00640594318974098, 0.9801093080303699, 0.005495791067047506, 0.9947381831355986, 0.9999500375403053, 0.9978996276603065, 0.9979328535045058, 1.000042972075306, 0.9943627724601634, 0.9947683972060906, 0.2171038196823233, 0.703227589840569, 0.08023402031738035, 0.11854825116250352, 0.3394052670268936, 0.5407748991385434, 0.8685103547250181, 0.10527398239091129, 0.026318495597727823, 1.000523562457279, 0.9952769256904216, 0.9952769256904216, 0.9666528546851504, 0.03364930823271093, 0.00805131997120241, 0.9903123564578963, 0.9805503843761878, 0.9916266973741963, 0.8842681851320707, 0.9991288145625811, 0.9234779472294251, 0.07479883684724316, 0.957947133302511, 0.04201522514484698, 0.6104167837202494, 0.2668046869240825, 0.07074366698744612, 0.05154181451942503, 0.11810819075535305, 0.880749651061347, 0.05079042865913679, 0.1025575963309493, 0.8458559849771627, 0.025586226094846266, 0.972276591604158, 0.99309916340689, 0.9971107460179622, 0.9028918238906265, 0.09656597046958572, 0.7162086991062337, 0.23269815710260902, 0.05155587911854212, 0.9897969427931708, 0.7839584354814845, 0.20987863627063366, 0.0030864505333916712, 0.9603346275965312, 0.04103994135027911, 0.0031082891339941736, 0.00932486740198252, 0.015541445669970868, 0.9697862098061822, 0.19618238691161258, 0.6457026592838903, 0.15910855001492988, 0.9978973408620398, 0.08674644770500078, 0.08397794405484119, 0.8287054259477734, 1.0002214394931037, 0.9882549864575023, 1.0014499693563392, 0.9805503843761878, 0.9978558576919155, 0.9910347196141367, 0.04123098335358366, 0.01889753403705918, 0.939722828933761, 0.9976901935202444, 0.9824190504798996, 0.016129267992953576, 0.9974087896760727, 0.17497756494790753, 0.0025359067383754715, 0.8216337832336528, 0.9914581304393454, 0.937853583517841, 0.060506682807602644, 0.9944806238848329, 0.9396699739747459, 0.00437055801848719, 0.05681725424033347, 0.09444811468594481, 0.003349223925033504, 0.5425742758554276, 0.3597066495485983, 0.900915865391135, 0.09528917807021621, 0.008406923029777502, 0.9892146098371528, 0.5094116878171501, 0.004292795122054636, 0.3877824926922687, 0.09873428780725661, 0.3929564478712288, 0.6033446345633469, 0.003477490689125919, 0.14582463519853947, 0.48534000722567333, 0.27383862793008173, 0.09461903810592255, 0.9972831762591814, 0.11026349797160084, 0.07535799800022291, 0.03192906198932245, 0.7825326040094961, 0.9919481895182399, 0.9993098140930095, 0.7672756545166196, 0.08487562549962606, 0.14598607585935683, 0.9942284434919485, 0.9177872032393115, 0.05873838100731594, 0.022026892877743478, 0.99880859384204, 0.9598146983611243, 0.02461063329131088, 0.00820354443043696, 0.9843853651826887, 0.7215019060465658, 0.004001689919561485, 0.004001689919561485, 0.9904182550914675, 0.904030379254457, 0.09617344460153797, 0.05496035230874195, 0.9233339187868648, 0.021984140923496782, 0.7386230951318334, 0.133241813239468, 0.1274486909247085, 0.9903689273298157, 0.1689615647331098, 0.5532663002044967, 0.2782896360310044, 0.1158612151276712, 0.38520092302186787, 0.49805275593843074, 0.9997148506136508, 0.990452548157488, 0.9912029092426207, 0.6943241754454705, 0.9995799278335977, 0.999588610822968, 0.9923619221983054, 0.9955878348761469, 0.9999348126129171, 0.9929030086357921, 0.8174634225124882, 0.1785585632791783, 0.9993835597534833, 0.9996205417596323, 0.9952930455915772, 1.0003049720609414, 0.9971669952380239, 0.48583642044457115, 0.3163308388644014, 0.19696071099104237, 0.9978996276603065, 0.998374726845144, 0.9422246897459263, 0.0549631069018457, 0.9995406140257106, 0.9772684933526746, 0.014807098384131433, 0.06533399645493775, 0.053455088008585436, 0.8820089521416596, 0.003469244983067025, 0.052038674746005376, 0.9436346353942309, 0.00767768870696365, 0.990421843198311, 0.04565800226279415, 0.022829001131397075, 0.9302817961044308, 0.007827455822042938, 0.9862594335774101, 0.9986570130774522, 0.9945831712760446, 0.049670794352308874, 0.7450619152846332, 0.20577900517385106, 0.9962649348925605, 0.09078800816036366, 0.21007922818502753, 0.6988565279321016, 0.04628969813553768, 0.8887622042023235, 0.009257939627107538, 0.04628969813553768, 0.05135147687725493, 0.1171455566262378, 0.8312520319505641, 0.07406730556787983, 0.5215572767071538, 0.40274097402534653, 0.7698998641370025, 0.22993653660467525, 0.9600768258852616, 0.03754490380556889, 0.0026020092234246284, 0.9965695325716327, 0.9965835454255256, 0.904030379254457, 0.09617344460153797, 0.2728733047780406, 0.472800280556011, 0.0621394654445043, 0.18912011222240438, 0.028412559967767103, 0.4628879561415391, 0.5078745094238369, 0.7282465269220935, 0.17586905922268245, 0.09660413112231853, 0.018223402379096816, 0.0580870950833711, 0.9236987080904698, 0.2970087137393631, 0.6922021262355404, 0.009818469875681425, 0.010641986673290138, 0.0070946577821934245, 0.9826101028337894, 0.461121061907169, 0.31408245865260537, 0.22505908661412805, 0.9742311159775605, 0.011597989475923338, 0.9969667140657237, 0.7215488451394668, 0.9978071626180082, 0.13771777825548748, 0.3181501615313936, 0.543506525949464, 0.9964442350710205, 0.07786417704550443, 0.9204658072164987, 0.1853248972552574, 0.7884160883232136, 0.02826989958131045, 0.11945660291035441, 0.8802065477605062, 0.9938874809253433, 0.9982750450930367, 0.9999607101931457, 1.0003239386595608, 0.9972499602195103, 0.02154175027319702, 0.5693176857916354, 0.40929325519074333, 0.1920005057871163, 0.1920005057871163, 0.6161210260332837, 0.010861345706133504, 0.04254027068235622, 0.8969661328981918, 0.04887605567760076, 0.9951096744979284, 0.3433557783281848, 0.11232117216586895, 0.3442689585896959, 0.1999864772709374, 0.900915865391135, 0.09528917807021621, 0.7112483749762172, 0.2873255024738361, 0.9794008663555563, 0.017033058545314023, 0.9920072513703254, 0.7549343932644735, 0.1476128701913775, 0.09911149855706776, 0.9258669012796071, 0.015213775373139084, 0.058681705010679326, 0.9966905574432219, 0.8956539059395594, 0.021157178880462035, 0.0035261964800770056, 0.08110251904177113, 0.0011347675220417333, 0.28255711298839153, 0.7149035388862919, 0.9978177213212484, 0.9989678980469471, 0.9960190057291678, 0.08603852182235977, 0.6203830257717521, 0.2535872222132709, 0.04075508928427568, 0.9998643421245511, 1.0001333090580244, 0.9476706091374145, 0.04307593677897339, 0.9926600866734878, 0.589411708484585, 0.24569552635608002, 0.06459859906440756, 0.1987649201981771, 0.49083892793383177, 0.0025203022474664383, 0.16507979720905172, 0.8329598927876578, 0.9832268068433776, 0.037712942240914704, 0.6914039410834362, 0.2702760860598887, 0.9992571549107894, 0.9925436325194561, 0.08927458295404524, 0.7727373737661621, 0.13757066881443036, 0.787819451746148, 0.017847042596191055, 0.19376789104436, 0.5931288212571485, 0.34218970457143183, 0.0651789913469394, 0.9647916705926027, 0.004405441418231062, 0.030838089927617437, 0.2680188904442458, 0.6700472261106146, 0.5084220205545312, 0.10540456523691502, 0.38441664968757244, 0.5408909918126176, 0.9994915272204877, 0.961348598579039, 0.03657304451115909, 0.01190848137432391, 0.9884039540688846, 0.9895482568071853, 0.999291416286224, 0.6537774208093489, 0.04983059609827354, 0.29499712890177937, 0.9944563233519748, 0.8998792780644577, 0.09563934356240612, 0.983985609806642, 0.9886930075887878, 0.006385788762394658, 0.9961830469335665, 0.9970488909972427, 0.17724142044761892, 0.8136992484186141, 0.7527892917154063, 0.008830372923347875, 0.2384200689303926, 0.003501634014278286, 0.9349362818123024, 0.05952777824273087, 0.9985931055383387, 0.999825965227629, 0.9175411878044342, 0.08192332033968162, 0.2647465222571227, 0.5476072802476275, 0.18810937107742928, 0.24392057673960854, 0.37089293175474725, 0.1770930214684829, 0.20716542134048946, 0.008763634580444624, 0.9902907075902425, 0.9711034403378903, 0.0253883252375919, 0.9978228994866628, 0.9994465999705318, 0.999357165449196, 0.9370214698939956, 0.060237094493185435, 0.900915865391135, 0.09528917807021621, 0.9950466066872735, 0.9972578370154803, 0.6848272160059857, 0.27736729537159993, 0.03681866752720353, 0.9642473600614447, 0.03542133159409389, 0.9945283088376967, 0.002303869843170899, 0.9952717722498283, 0.9028918238906265, 0.09656597046958572, 0.503432899670614, 0.3325928542950266, 0.16538770350189846, 0.031202160479445233, 0.9672669748628022, 0.9971007504651556, 0.009020367020092783, 0.9892335832035086, 0.9771036717192109, 0.01628506119532018, 0.9998998616896517, 0.8902092973947927, 0.979250757287943, 0.012750596309467751, 0.04609830973422956, 0.9415824966991571, 0.98761587937542, 0.996343287367861, 0.9939039876314232, 0.0043213216853540135, 0.36723324724095396, 0.07673530539363217, 0.40340846264080915, 0.1523743921387839, 0.9946033075790367, 0.9997249577780901, 0.2999194779120828, 0.06519988650262669, 0.6356988934006103, 0.607404939335238, 0.1900469442091849, 0.20246831311174598, 0.9990229034821937, 0.5707499627130318, 0.10975960821404458, 0.3201321906242967, 0.994958511261707, 1.000025456155978, 0.7364398696048015, 0.24168876029501205, 0.022747177439530548, 0.1040451206801615, 0.0023918418547163563, 0.5417521800932548, 0.35160075264330437, 0.9989673369068017, 0.9918730865730637, 0.9840578574189424, 0.9248573119689337, 0.07340137396578839, 0.9970026927298313, 0.4495249808863581, 0.5993666411818108, 0.9989745825420633, 0.9262680160750788, 0.9989678980469471, 1.000103222462957, 0.056215861312823565, 0.9436233863223956, 0.9989671563661656, 0.99895186313764, 0.986220679659287, 0.01350987232409982, 0.09725850163782353, 0.4046847999183002, 0.49747164630840773, 1.0000292577915857, 0.19655980667177025, 0.45174271357898077, 0.2655281598899353, 0.082762023861798], \"Term\": [\"access\", \"access\", \"access\", \"administrator\", \"afford\", \"aggressively\", \"agreement\", \"agreement\", \"agreement\", \"alias\", \"align\", \"amazon\", \"amerex\", \"ancillary\", \"apse\", \"asp\", \"asp\", \"astronomical\", \"attached\", \"attached\", \"attached\", \"attempting\", \"auction\", \"bankrupt\", \"bankruptcy\", \"benefit\", \"benefit\", \"benefit\", \"benefit\", \"bill\", \"bill\", \"bill\", \"board\", \"board\", \"bob\", \"bob\", \"bob\", \"bodydefault\", \"bodydefault\", \"border\", \"borland\", \"boyd\", \"br\", \"bradford\", \"businessweek\", \"california\", \"california\", \"california\", \"call\", \"call\", \"call\", \"cannot\", \"cannot\", \"cannot\", \"carol\", \"cellpadding\", \"cellspacing\", \"center\", \"center\", \"checkout\", \"checkout\", \"cheffo\", \"cholesterol\", \"ciavaldinireminder\", \"class\", \"clear\", \"clear\", \"cn\", \"cn\", \"company\", \"company\", \"company\", \"company\", \"consumer\", \"consumer\", \"corp\", \"corp\", \"corp\", \"counterparty\", \"counterparty\", \"crisis\", \"cta\", \"ctr\", \"ctr\", \"customer\", \"customer\", \"customer\", \"d\", \"data\", \"data\", \"data\", \"database\", \"database\", \"david\", \"david\", \"david\", \"david\", \"day\", \"day\", \"day\", \"dbcaps\", \"deal\", \"deal\", \"deal\", \"dealing\", \"debbie\", \"declared\", \"deco\", \"detected\", \"devastated\", \"development\", \"development\", \"development\", \"devon\", \"diabetes\", \"diabetes\", \"div\", \"doc\", \"doc\", \"doc\", \"donate\", \"donated\", \"donated\", \"draft\", \"dynegy\", \"dynegy\", \"dynegy\", \"e\", \"e\", \"e\", \"e\", \"ecar\", \"ecar\", \"ee\", \"ee\", \"email\", \"email\", \"email\", \"email\", \"employee\", \"employee\", \"employee\", \"energy\", \"energy\", \"energy\", \"energy\", \"engine\", \"enron\", \"enron\", \"enron\", \"enron\", \"enronoptions\", \"enronxgate\", \"error\", \"error\", \"error\", \"evelyn\", \"exchange\", \"exchange\", \"exchange\", \"exotica\", \"feedback\", \"feedback\", \"feedback\", \"financially\", \"flakin\", \"forwarded\", \"forwarded\", \"forwarded\", \"frcc\", \"frcc\", \"fund\", \"fund\", \"fund\", \"future\", \"future\", \"future\", \"fyi\", \"gas\", \"gas\", \"gas\", \"get\", \"get\", \"get\", \"gif\", \"gown\", \"gt\", \"hardship\", \"height\", \"hou\", \"hourahead\", \"hp\", \"href\", \"hurt\", \"id\", \"id\", \"image\", \"img\", \"income\", \"indeed\", \"index\", \"information\", \"information\", \"information\", \"initialize\", \"intended\", \"investor\", \"investor\", \"isda\", \"iso\", \"iso\", \"j\", \"j\", \"j\", \"jeff\", \"jeff\", \"jeff\", \"jeffrey\", \"jeffrey\", \"john\", \"john\", \"john\", \"justin\", \"justin\", \"kate\", \"kay\", \"ken\", \"ken\", \"ken\", \"kimberly\", \"know\", \"know\", \"know\", \"lay\", \"lay\", \"lay\", \"lay\", \"let\", \"let\", \"let\", \"like\", \"like\", \"like\", \"link\", \"link\", \"log\", \"log\", \"lon\", \"lon\", \"louise\", \"maac\", \"maac\", \"made\", \"made\", \"made\", \"made\", \"mail\", \"mail\", \"mail\", \"management\", \"management\", \"management\", \"mark\", \"mark\", \"mark\", \"market\", \"market\", \"market\", \"master\", \"master\", \"master\", \"may\", \"may\", \"may\", \"mbra\", \"mbra\", \"mckay\", \"mediatrip\", \"melissa\", \"message\", \"message\", \"message\", \"metoyer\", \"mike\", \"mike\", \"million\", \"million\", \"million\", \"money\", \"money\", \"mwe\", \"na\", \"nan\", \"nbsp\", \"nc\", \"ne\", \"ne\", \"ne\", \"need\", \"need\", \"need\", \"net\", \"net\", \"net\", \"net\", \"netted\", \"new\", \"new\", \"new\", \"new\", \"npcc\", \"npcc\", \"nw\", \"nw\", \"nyiso\", \"nyiso\", \"occurred\", \"online\", \"online\", \"online\", \"option\", \"option\", \"option\", \"orch\", \"org\", \"org\", \"org\", \"org\", \"original\", \"original\", \"original\", \"outage\", \"parsing\", \"password\", \"pay\", \"pay\", \"pay\", \"pay\", \"pdx\", \"pep\", \"performance\", \"performance\", \"pg\", \"piss\", \"please\", \"please\", \"please\", \"please\", \"pm\", \"pm\", \"pm\", \"pocketbook\", \"power\", \"power\", \"power\", \"prebon\", \"preferred\", \"price\", \"price\", \"price\", \"process\", \"process\", \"process\", \"product\", \"product\", \"product\", \"program\", \"program\", \"program\", \"propose\", \"propose\", \"question\", \"question\", \"question\", \"reasoning\", \"recipient\", \"registration\", \"registration\", \"reliantenergy\", \"reliantenergy\", \"relief\", \"repair\", \"request\", \"request\", \"request\", \"retirement\", \"rk\", \"rk\", \"salmon\", \"samantha\", \"sara\", \"sara\", \"sat\", \"saving\", \"saving\", \"schedule\", \"schedule\", \"schedule\", \"scheduled\", \"scheduled\", \"scheduled\", \"scoop\", \"script\", \"security\", \"security\", \"service\", \"service\", \"service\", \"set\", \"set\", \"set\", \"set\", \"shackleton\", \"shackleton\", \"share\", \"share\", \"simulation\", \"skadden\", \"src\", \"statement\", \"statement\", \"std\", \"std\", \"stephanie\", \"steven\", \"stock\", \"stock\", \"stock\", \"sw\", \"sw\", \"swerzbin\", \"symes\", \"symes\", \"syncrasy\", \"syncrasy\", \"system\", \"system\", \"system\", \"table\", \"table\", \"tana\", \"taylor\", \"taylor\", \"tbww\", \"tbww\", \"td\", \"telkajdslkajfdlkasjdflkjsd\", \"tennis\", \"thanks\", \"thanks\", \"thanks\", \"thompson\", \"thru\", \"ticket\", \"ticket\", \"time\", \"time\", \"time\", \"time\", \"top\", \"tr\", \"trade\", \"trade\", \"trade\", \"trading\", \"trading\", \"trading\", \"trans\", \"transaction\", \"transaction\", \"transaction\", \"truequote\", \"txt\", \"type\", \"type\", \"type\", \"u\", \"u\", \"u\", \"u\", \"underhanded\", \"unknown\", \"urging\", \"user\", \"user\", \"variance\", \"videotaped\", \"videotaped\", \"virus\", \"webcl\", \"westdesk\", \"width\", \"williams\", \"williams\", \"wiped\", \"wj\", \"worldwinner\", \"worldwinner\", \"would\", \"would\", \"would\", \"wscc\", \"york\", \"york\", \"york\", \"york\"]}, \"R\": 30, \"lambda.step\": 0.01, \"plot.opts\": {\"xlab\": \"PC1\", \"ylab\": \"PC2\"}, \"topic.order\": [1, 2, 3, 4, 5]};\n",
       "\n",
       "function LDAvis_load_lib(url, callback){\n",
       "  var s = document.createElement('script');\n",
       "  s.src = url;\n",
       "  s.async = true;\n",
       "  s.onreadystatechange = s.onload = callback;\n",
       "  s.onerror = function(){console.warn(\"failed to load library \" + url);};\n",
       "  document.getElementsByTagName(\"head\")[0].appendChild(s);\n",
       "}\n",
       "\n",
       "if(typeof(LDAvis) !== \"undefined\"){\n",
       "   // already loaded: just create the visualization\n",
       "   !function(LDAvis){\n",
       "       new LDAvis(\"#\" + \"ldavis_el85351405858641720723809417658\", ldavis_el85351405858641720723809417658_data);\n",
       "   }(LDAvis);\n",
       "}else if(typeof define === \"function\" && define.amd){\n",
       "   // require.js is available: use it to load d3/LDAvis\n",
       "   require.config({paths: {d3: \"https://d3js.org/d3.v5\"}});\n",
       "   require([\"d3\"], function(d3){\n",
       "      window.d3 = d3;\n",
       "      LDAvis_load_lib(\"https://cdn.jsdelivr.net/gh/bmabey/pyLDAvis@3.3.1/pyLDAvis/js/ldavis.v3.0.0.js\", function(){\n",
       "        new LDAvis(\"#\" + \"ldavis_el85351405858641720723809417658\", ldavis_el85351405858641720723809417658_data);\n",
       "      });\n",
       "    });\n",
       "}else{\n",
       "    // require.js not available: dynamically load d3 & LDAvis\n",
       "    LDAvis_load_lib(\"https://d3js.org/d3.v5.js\", function(){\n",
       "         LDAvis_load_lib(\"https://cdn.jsdelivr.net/gh/bmabey/pyLDAvis@3.3.1/pyLDAvis/js/ldavis.v3.0.0.js\", function(){\n",
       "                 new LDAvis(\"#\" + \"ldavis_el85351405858641720723809417658\", ldavis_el85351405858641720723809417658_data);\n",
       "            })\n",
       "         });\n",
       "}\n",
       "</script>"
      ],
      "text/plain": [
       "<IPython.core.display.HTML object>"
      ]
     },
     "execution_count": 21,
     "metadata": {},
     "output_type": "execute_result"
    }
   ],
   "source": [
    "pyLDAvis.display(lda_display)"
   ]
  },
  {
   "cell_type": "code",
   "execution_count": 22,
   "id": "accompanied-replica",
   "metadata": {},
   "outputs": [
    {
     "data": {
      "text/html": [
       "<div>\n",
       "<style scoped>\n",
       "    .dataframe tbody tr th:only-of-type {\n",
       "        vertical-align: middle;\n",
       "    }\n",
       "\n",
       "    .dataframe tbody tr th {\n",
       "        vertical-align: top;\n",
       "    }\n",
       "\n",
       "    .dataframe thead th {\n",
       "        text-align: right;\n",
       "    }\n",
       "</style>\n",
       "<table border=\"1\" class=\"dataframe\">\n",
       "  <thead>\n",
       "    <tr style=\"text-align: right;\">\n",
       "      <th></th>\n",
       "      <th>Dominant_Topic</th>\n",
       "      <th>% Score</th>\n",
       "      <th>Original text</th>\n",
       "    </tr>\n",
       "  </thead>\n",
       "  <tbody>\n",
       "    <tr>\n",
       "      <th>0</th>\n",
       "      <td>1.0</td>\n",
       "      <td>0.553684</td>\n",
       "      <td>[investools, advisory, free, digest, trusted, ...</td>\n",
       "    </tr>\n",
       "    <tr>\n",
       "      <th>1</th>\n",
       "      <td>4.0</td>\n",
       "      <td>0.762660</td>\n",
       "      <td>[forwarded, richard, b, sander, hou, pm, justi...</td>\n",
       "    </tr>\n",
       "    <tr>\n",
       "      <th>2</th>\n",
       "      <td>4.0</td>\n",
       "      <td>0.529103</td>\n",
       "      <td>[hey, wearing, target, purple, shirt, today, m...</td>\n",
       "    </tr>\n",
       "    <tr>\n",
       "      <th>3</th>\n",
       "      <td>2.0</td>\n",
       "      <td>0.993503</td>\n",
       "      <td>[leslie, milosevich, santa, clara, avenue, ala...</td>\n",
       "    </tr>\n",
       "    <tr>\n",
       "      <th>4</th>\n",
       "      <td>2.0</td>\n",
       "      <td>0.993379</td>\n",
       "      <td>[rini, twait, e, th, ave, longmont, co, rtwait...</td>\n",
       "    </tr>\n",
       "  </tbody>\n",
       "</table>\n",
       "</div>"
      ],
      "text/plain": [
       "   Dominant_Topic   % Score                                      Original text\n",
       "0             1.0  0.553684  [investools, advisory, free, digest, trusted, ...\n",
       "1             4.0  0.762660  [forwarded, richard, b, sander, hou, pm, justi...\n",
       "2             4.0  0.529103  [hey, wearing, target, purple, shirt, today, m...\n",
       "3             2.0  0.993503  [leslie, milosevich, santa, clara, avenue, ala...\n",
       "4             2.0  0.993379  [rini, twait, e, th, ave, longmont, co, rtwait..."
      ]
     },
     "execution_count": 22,
     "metadata": {},
     "output_type": "execute_result"
    }
   ],
   "source": [
    "def get_topic_details(ldamodel, corpus):\n",
    "    topic_details_df = pd.DataFrame()\n",
    "    for i, row in enumerate(ldamodel[corpus]):\n",
    "        row = sorted(row, key=lambda x: (x[1]), reverse=True)\n",
    "        for j, (topic_num, prop_topic) in enumerate(row):\n",
    "            if j == 0:  # => dominant topic\n",
    "                wp = ldamodel.show_topic(topic_num)\n",
    "                topic_details_df = topic_details_df.append(pd.Series([topic_num, prop_topic]), ignore_index=True)\n",
    "    topic_details_df.columns = ['Dominant_Topic', '% Score']\n",
    "    return topic_details_df\n",
    "\n",
    "\n",
    "contents = pd.DataFrame({'Original text':text_clean})\n",
    "topic_details = pd.concat([get_topic_details(ldamodel,\n",
    "                           corpus), contents], axis=1)\n",
    "topic_details.head()\n"
   ]
  },
  {
   "cell_type": "code",
   "execution_count": 23,
   "id": "affecting-muscle",
   "metadata": {},
   "outputs": [],
   "source": [
    "def get_topic_details(ldamodel, corpus):\n",
    "    topic_details_df = pd.DataFrame()\n",
    "    for i, row in enumerate(ldamodel[corpus]):\n",
    "        row = sorted(row, key=lambda x: (x[1]), reverse=True)\n",
    "        for j, (topic_num, prop_topic) in enumerate(row):\n",
    "            if j == 0:  # => dominant topic\n",
    "                wp = ldamodel.show_topic(topic_num)\n",
    "                topic_details_df = topic_details_df.append(pd.Series([topic_num, prop_topic]), ignore_index=True)\n",
    "    topic_details_df.columns = ['Dominant_Topic', '% Score']\n",
    "    return topic_details_df"
   ]
  },
  {
   "cell_type": "code",
   "execution_count": 24,
   "id": "closing-canvas",
   "metadata": {},
   "outputs": [],
   "source": [
    "# Run get_topic_details function and check the results\n",
    "topic_details_df = get_topic_details(ldamodel, corpus)"
   ]
  },
  {
   "cell_type": "code",
   "execution_count": 25,
   "id": "round-italian",
   "metadata": {},
   "outputs": [
    {
     "data": {
      "text/html": [
       "<div>\n",
       "<style scoped>\n",
       "    .dataframe tbody tr th:only-of-type {\n",
       "        vertical-align: middle;\n",
       "    }\n",
       "\n",
       "    .dataframe tbody tr th {\n",
       "        vertical-align: top;\n",
       "    }\n",
       "\n",
       "    .dataframe thead th {\n",
       "        text-align: right;\n",
       "    }\n",
       "</style>\n",
       "<table border=\"1\" class=\"dataframe\">\n",
       "  <thead>\n",
       "    <tr style=\"text-align: right;\">\n",
       "      <th></th>\n",
       "      <th>Dominant_Topic</th>\n",
       "      <th>% Score</th>\n",
       "    </tr>\n",
       "  </thead>\n",
       "  <tbody>\n",
       "    <tr>\n",
       "      <th>0</th>\n",
       "      <td>1.0</td>\n",
       "      <td>0.553684</td>\n",
       "    </tr>\n",
       "    <tr>\n",
       "      <th>1</th>\n",
       "      <td>4.0</td>\n",
       "      <td>0.762659</td>\n",
       "    </tr>\n",
       "    <tr>\n",
       "      <th>2</th>\n",
       "      <td>4.0</td>\n",
       "      <td>0.529102</td>\n",
       "    </tr>\n",
       "    <tr>\n",
       "      <th>3</th>\n",
       "      <td>2.0</td>\n",
       "      <td>0.993504</td>\n",
       "    </tr>\n",
       "    <tr>\n",
       "      <th>4</th>\n",
       "      <td>2.0</td>\n",
       "      <td>0.993378</td>\n",
       "    </tr>\n",
       "  </tbody>\n",
       "</table>\n",
       "</div>"
      ],
      "text/plain": [
       "   Dominant_Topic   % Score\n",
       "0             1.0  0.553684\n",
       "1             4.0  0.762659\n",
       "2             4.0  0.529102\n",
       "3             2.0  0.993504\n",
       "4             2.0  0.993378"
      ]
     },
     "execution_count": 25,
     "metadata": {},
     "output_type": "execute_result"
    }
   ],
   "source": [
    "topic_details_df.head()"
   ]
  },
  {
   "cell_type": "code",
   "execution_count": 26,
   "id": "hairy-variance",
   "metadata": {},
   "outputs": [
    {
     "data": {
      "text/html": [
       "<div>\n",
       "<style scoped>\n",
       "    .dataframe tbody tr th:only-of-type {\n",
       "        vertical-align: middle;\n",
       "    }\n",
       "\n",
       "    .dataframe tbody tr th {\n",
       "        vertical-align: top;\n",
       "    }\n",
       "\n",
       "    .dataframe thead th {\n",
       "        text-align: right;\n",
       "    }\n",
       "</style>\n",
       "<table border=\"1\" class=\"dataframe\">\n",
       "  <thead>\n",
       "    <tr style=\"text-align: right;\">\n",
       "      <th></th>\n",
       "      <th>Dominant_Topic</th>\n",
       "      <th>% Score</th>\n",
       "    </tr>\n",
       "  </thead>\n",
       "  <tbody>\n",
       "    <tr>\n",
       "      <th>14221</th>\n",
       "      <td>3.0</td>\n",
       "      <td>0.805640</td>\n",
       "    </tr>\n",
       "    <tr>\n",
       "      <th>14222</th>\n",
       "      <td>4.0</td>\n",
       "      <td>0.599532</td>\n",
       "    </tr>\n",
       "    <tr>\n",
       "      <th>14223</th>\n",
       "      <td>3.0</td>\n",
       "      <td>0.798099</td>\n",
       "    </tr>\n",
       "    <tr>\n",
       "      <th>14224</th>\n",
       "      <td>3.0</td>\n",
       "      <td>0.584454</td>\n",
       "    </tr>\n",
       "    <tr>\n",
       "      <th>14225</th>\n",
       "      <td>4.0</td>\n",
       "      <td>0.890239</td>\n",
       "    </tr>\n",
       "  </tbody>\n",
       "</table>\n",
       "</div>"
      ],
      "text/plain": [
       "       Dominant_Topic   % Score\n",
       "14221             3.0  0.805640\n",
       "14222             4.0  0.599532\n",
       "14223             3.0  0.798099\n",
       "14224             3.0  0.584454\n",
       "14225             4.0  0.890239"
      ]
     },
     "execution_count": 26,
     "metadata": {},
     "output_type": "execute_result"
    }
   ],
   "source": [
    "topic_details_df.tail()\n"
   ]
  },
  {
   "cell_type": "code",
   "execution_count": 27,
   "id": "flush-company",
   "metadata": {},
   "outputs": [],
   "source": [
    "# Add original text to topic details in a dataframe\n",
    "contents = pd.DataFrame({'Original text': text_clean})\n",
    "topic_details = pd.concat([get_topic_details(ldamodel, corpus), contents], axis=1)"
   ]
  },
  {
   "cell_type": "code",
   "execution_count": 28,
   "id": "favorite-numbers",
   "metadata": {},
   "outputs": [
    {
     "data": {
      "text/html": [
       "<div>\n",
       "<style scoped>\n",
       "    .dataframe tbody tr th:only-of-type {\n",
       "        vertical-align: middle;\n",
       "    }\n",
       "\n",
       "    .dataframe tbody tr th {\n",
       "        vertical-align: top;\n",
       "    }\n",
       "\n",
       "    .dataframe thead th {\n",
       "        text-align: right;\n",
       "    }\n",
       "</style>\n",
       "<table border=\"1\" class=\"dataframe\">\n",
       "  <thead>\n",
       "    <tr style=\"text-align: right;\">\n",
       "      <th></th>\n",
       "      <th>Dominant_Topic</th>\n",
       "      <th>% Score</th>\n",
       "      <th>Original text</th>\n",
       "    </tr>\n",
       "  </thead>\n",
       "  <tbody>\n",
       "    <tr>\n",
       "      <th>10566</th>\n",
       "      <td>3.0</td>\n",
       "      <td>0.999539</td>\n",
       "      <td>[head, title, weather, inbox, title, base, hre...</td>\n",
       "    </tr>\n",
       "    <tr>\n",
       "      <th>13145</th>\n",
       "      <td>1.0</td>\n",
       "      <td>0.999060</td>\n",
       "      <td>[start, date, hourahead, hour, hourahead, sche...</td>\n",
       "    </tr>\n",
       "    <tr>\n",
       "      <th>7120</th>\n",
       "      <td>3.0</td>\n",
       "      <td>0.998948</td>\n",
       "      <td>[dear, buy, giving, valued, customer, year, en...</td>\n",
       "    </tr>\n",
       "    <tr>\n",
       "      <th>14064</th>\n",
       "      <td>4.0</td>\n",
       "      <td>0.998482</td>\n",
       "      <td>[uh, yeah, whole, bunch, single, one, squishy,...</td>\n",
       "    </tr>\n",
       "    <tr>\n",
       "      <th>6089</th>\n",
       "      <td>1.0</td>\n",
       "      <td>0.998263</td>\n",
       "      <td>[today, announced, plan, merge, dynegy, major,...</td>\n",
       "    </tr>\n",
       "  </tbody>\n",
       "</table>\n",
       "</div>"
      ],
      "text/plain": [
       "       Dominant_Topic   % Score  \\\n",
       "10566             3.0  0.999539   \n",
       "13145             1.0  0.999060   \n",
       "7120              3.0  0.998948   \n",
       "14064             4.0  0.998482   \n",
       "6089              1.0  0.998263   \n",
       "\n",
       "                                           Original text  \n",
       "10566  [head, title, weather, inbox, title, base, hre...  \n",
       "13145  [start, date, hourahead, hour, hourahead, sche...  \n",
       "7120   [dear, buy, giving, valued, customer, year, en...  \n",
       "14064  [uh, yeah, whole, bunch, single, one, squishy,...  \n",
       "6089   [today, announced, plan, merge, dynegy, major,...  "
      ]
     },
     "execution_count": 28,
     "metadata": {},
     "output_type": "execute_result"
    }
   ],
   "source": [
    "topic_details.sort_values(by=['% Score'], ascending=False).head(10).head()"
   ]
  },
  {
   "cell_type": "code",
   "execution_count": 29,
   "id": "amino-memorial",
   "metadata": {},
   "outputs": [
    {
     "data": {
      "text/html": [
       "<div>\n",
       "<style scoped>\n",
       "    .dataframe tbody tr th:only-of-type {\n",
       "        vertical-align: middle;\n",
       "    }\n",
       "\n",
       "    .dataframe tbody tr th {\n",
       "        vertical-align: top;\n",
       "    }\n",
       "\n",
       "    .dataframe thead th {\n",
       "        text-align: right;\n",
       "    }\n",
       "</style>\n",
       "<table border=\"1\" class=\"dataframe\">\n",
       "  <thead>\n",
       "    <tr style=\"text-align: right;\">\n",
       "      <th></th>\n",
       "      <th>Dominant_Topic</th>\n",
       "      <th>% Score</th>\n",
       "      <th>Original text</th>\n",
       "    </tr>\n",
       "  </thead>\n",
       "  <tbody>\n",
       "    <tr>\n",
       "      <th>13</th>\n",
       "      <td>1.0</td>\n",
       "      <td>0.998263</td>\n",
       "      <td>[today, announced, plan, merge, dynegy, major,...</td>\n",
       "    </tr>\n",
       "    <tr>\n",
       "      <th>14</th>\n",
       "      <td>1.0</td>\n",
       "      <td>0.998263</td>\n",
       "      <td>[today, announced, plan, merge, dynegy, major,...</td>\n",
       "    </tr>\n",
       "    <tr>\n",
       "      <th>96</th>\n",
       "      <td>1.0</td>\n",
       "      <td>0.998263</td>\n",
       "      <td>[today, announced, plan, merge, dynegy, major,...</td>\n",
       "    </tr>\n",
       "    <tr>\n",
       "      <th>6115</th>\n",
       "      <td>1.0</td>\n",
       "      <td>0.998263</td>\n",
       "      <td>[today, announced, plan, merge, dynegy, major,...</td>\n",
       "    </tr>\n",
       "    <tr>\n",
       "      <th>931</th>\n",
       "      <td>1.0</td>\n",
       "      <td>0.998263</td>\n",
       "      <td>[today, announced, plan, merge, dynegy, major,...</td>\n",
       "    </tr>\n",
       "  </tbody>\n",
       "</table>\n",
       "</div>"
      ],
      "text/plain": [
       "      Dominant_Topic   % Score  \\\n",
       "13               1.0  0.998263   \n",
       "14               1.0  0.998263   \n",
       "96               1.0  0.998263   \n",
       "6115             1.0  0.998263   \n",
       "931              1.0  0.998263   \n",
       "\n",
       "                                          Original text  \n",
       "13    [today, announced, plan, merge, dynegy, major,...  \n",
       "14    [today, announced, plan, merge, dynegy, major,...  \n",
       "96    [today, announced, plan, merge, dynegy, major,...  \n",
       "6115  [today, announced, plan, merge, dynegy, major,...  \n",
       "931   [today, announced, plan, merge, dynegy, major,...  "
      ]
     },
     "execution_count": 29,
     "metadata": {},
     "output_type": "execute_result"
    }
   ],
   "source": [
    "topic_details.sort_values(by=['% Score'], ascending=False).head(10).tail()"
   ]
  },
  {
   "cell_type": "code",
   "execution_count": 30,
   "id": "lightweight-farming",
   "metadata": {},
   "outputs": [
    {
     "data": {
      "text/html": [
       "<div>\n",
       "<style scoped>\n",
       "    .dataframe tbody tr th:only-of-type {\n",
       "        vertical-align: middle;\n",
       "    }\n",
       "\n",
       "    .dataframe tbody tr th {\n",
       "        vertical-align: top;\n",
       "    }\n",
       "\n",
       "    .dataframe thead th {\n",
       "        text-align: right;\n",
       "    }\n",
       "</style>\n",
       "<table border=\"1\" class=\"dataframe\">\n",
       "  <thead>\n",
       "    <tr style=\"text-align: right;\">\n",
       "      <th></th>\n",
       "      <th>Dominant_Topic</th>\n",
       "      <th>% Score</th>\n",
       "      <th>Original text</th>\n",
       "      <th>flag</th>\n",
       "    </tr>\n",
       "  </thead>\n",
       "  <tbody>\n",
       "    <tr>\n",
       "      <th>10566</th>\n",
       "      <td>3.0</td>\n",
       "      <td>0.999539</td>\n",
       "      <td>[head, title, weather, inbox, title, base, hre...</td>\n",
       "      <td>1</td>\n",
       "    </tr>\n",
       "    <tr>\n",
       "      <th>7120</th>\n",
       "      <td>3.0</td>\n",
       "      <td>0.998948</td>\n",
       "      <td>[dear, buy, giving, valued, customer, year, en...</td>\n",
       "      <td>1</td>\n",
       "    </tr>\n",
       "    <tr>\n",
       "      <th>10518</th>\n",
       "      <td>3.0</td>\n",
       "      <td>0.997455</td>\n",
       "      <td>[columbia, gas, transmission, corporation, not...</td>\n",
       "      <td>1</td>\n",
       "    </tr>\n",
       "    <tr>\n",
       "      <th>14217</th>\n",
       "      <td>3.0</td>\n",
       "      <td>0.997427</td>\n",
       "      <td>[unsubscribe, mailing, please, go, money, net,...</td>\n",
       "      <td>1</td>\n",
       "    </tr>\n",
       "    <tr>\n",
       "      <th>14136</th>\n",
       "      <td>3.0</td>\n",
       "      <td>0.997207</td>\n",
       "      <td>[raquel, nunes, thomas, auto, confirm, amazon,...</td>\n",
       "      <td>1</td>\n",
       "    </tr>\n",
       "    <tr>\n",
       "      <th>7107</th>\n",
       "      <td>3.0</td>\n",
       "      <td>0.995103</td>\n",
       "      <td>[w, e, e, k, e, n, e, v, l, b, l, f, r, novemb...</td>\n",
       "      <td>1</td>\n",
       "    </tr>\n",
       "    <tr>\n",
       "      <th>14154</th>\n",
       "      <td>3.0</td>\n",
       "      <td>0.994413</td>\n",
       "      <td>[attention, reading, message, mail, reader, ca...</td>\n",
       "      <td>1</td>\n",
       "    </tr>\n",
       "    <tr>\n",
       "      <th>7189</th>\n",
       "      <td>3.0</td>\n",
       "      <td>0.991059</td>\n",
       "      <td>[head, head, body, bgcolor, ffffff, p, p, alig...</td>\n",
       "      <td>1</td>\n",
       "    </tr>\n",
       "    <tr>\n",
       "      <th>14148</th>\n",
       "      <td>3.0</td>\n",
       "      <td>0.990188</td>\n",
       "      <td>[kim, responding, rfp, city, riverside, lookin...</td>\n",
       "      <td>1</td>\n",
       "    </tr>\n",
       "    <tr>\n",
       "      <th>10273</th>\n",
       "      <td>3.0</td>\n",
       "      <td>0.988595</td>\n",
       "      <td>[pulpex, bulletin, monday, october, market, ne...</td>\n",
       "      <td>1</td>\n",
       "    </tr>\n",
       "  </tbody>\n",
       "</table>\n",
       "</div>"
      ],
      "text/plain": [
       "       Dominant_Topic   % Score  \\\n",
       "10566             3.0  0.999539   \n",
       "7120              3.0  0.998948   \n",
       "10518             3.0  0.997455   \n",
       "14217             3.0  0.997427   \n",
       "14136             3.0  0.997207   \n",
       "7107              3.0  0.995103   \n",
       "14154             3.0  0.994413   \n",
       "7189              3.0  0.991059   \n",
       "14148             3.0  0.990188   \n",
       "10273             3.0  0.988595   \n",
       "\n",
       "                                           Original text  flag  \n",
       "10566  [head, title, weather, inbox, title, base, hre...     1  \n",
       "7120   [dear, buy, giving, valued, customer, year, en...     1  \n",
       "10518  [columbia, gas, transmission, corporation, not...     1  \n",
       "14217  [unsubscribe, mailing, please, go, money, net,...     1  \n",
       "14136  [raquel, nunes, thomas, auto, confirm, amazon,...     1  \n",
       "7107   [w, e, e, k, e, n, e, v, l, b, l, f, r, novemb...     1  \n",
       "14154  [attention, reading, message, mail, reader, ca...     1  \n",
       "7189   [head, head, body, bgcolor, ffffff, p, p, alig...     1  \n",
       "14148  [kim, responding, rfp, city, riverside, lookin...     1  \n",
       "10273  [pulpex, bulletin, monday, october, market, ne...     1  "
      ]
     },
     "execution_count": 30,
     "metadata": {},
     "output_type": "execute_result"
    }
   ],
   "source": [
    "# Create flag for text highest associated with topic 3\n",
    "topic_details['flag'] = np.where((topic_details['Dominant_Topic'] == 3.0), 1, 0)\n",
    "topic_details_1 = topic_details[topic_details.flag == 1]\n",
    "topic_details_1.sort_values(by=['% Score'], ascending=False).head(10)"
   ]
  },
  {
   "cell_type": "code",
   "execution_count": null,
   "id": "reasonable-flavor",
   "metadata": {},
   "outputs": [],
   "source": []
  }
 ],
 "metadata": {
  "kernelspec": {
   "display_name": "Python 3 (ipykernel)",
   "language": "python",
   "name": "python3"
  },
  "language_info": {
   "codemirror_mode": {
    "name": "ipython",
    "version": 3
   },
   "file_extension": ".py",
   "mimetype": "text/x-python",
   "name": "python",
   "nbconvert_exporter": "python",
   "pygments_lexer": "ipython3",
   "version": "3.7.3"
  }
 },
 "nbformat": 4,
 "nbformat_minor": 5
}
